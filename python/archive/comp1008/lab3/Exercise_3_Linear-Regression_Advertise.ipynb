{
 "cells": [
  {
   "cell_type": "markdown",
   "id": "050f8494",
   "metadata": {},
   "source": [
    "<h1><center>COMP1008: Exercise 3 - Linear Regression with sklearn</center></h1>"
   ]
  },
  {
   "cell_type": "markdown",
   "id": "f860529a",
   "metadata": {},
   "source": [
    "Linear regression is a common supervised learning algorithm for regression tasks. This algorithm learns to model the (linear) correlations between the input variables and the output variable in a given dataset. `scikit-learn` is a powerful machine learning library in Python that provides a user-friendly and effective approach to implement linear regression with just a few lines of code.\n",
    "\n",
    "<div class=\"alert alert-success\">\n",
    "    <h3>Mini-Challenge 2: Linear Regression and Visualisation</h3>\n",
    "</div>\n",
    "\n",
    "Upon completing the guided tutorial on linear regression, you are challenged in Part 3 to build a linear regression model using `scikit-learn` to predict the heights of people based on their weight with a set of real-world data `data-weight-height.csv`."
   ]
  },
  {
   "cell_type": "markdown",
   "id": "8555fe79",
   "metadata": {},
   "source": [
    "## 1. Recap: linear regression in machine learning"
   ]
  },
  {
   "cell_type": "markdown",
   "id": "38e4e0a2",
   "metadata": {},
   "source": [
    "<b>Supervised learning</b> is one type of machine learning tasks that learne a function that maps the input (i.e. features) to an expected output (i.e. label) with given data (i.e. samples of input-output pairs). COMP1008 covers two main types of supervised learning:\n",
    "- <b>Regression</b>: the output/label is continuous,\n",
    "- <b>Classification</b>: the output/label is discrete/categorical.\n",
    "\n",
    "<img align=\"right\" width=280 src=\"img-lr.png\"><br>\n",
    "\n",
    "<b>Linear regression</b> is fast to train and easy to use, requiring little parameter tuning. It is also easy to interpret compared to other models such as artificial neural networks. Training a linear regression model involves learning the coefficients (<b><i>intercept</i> $b_0$</b> and <b><i>coefficient</i> $b_i$</b>) of the following function that maps the <b><i>input x (features)</i></b> to <b><i>output y (label)</i></b> in the training data.\n",
    "- For a single variable, the function is <b><i>y</i></b> = $b_0$ + $b_1$ * <b><i>x</i></b> (see the figure to the right)<br>\n",
    "- For multiple variables, the function is <b><i>y</i></b> = $b_0$ + $b_1$ * <b><i>x<sub>1</sub></i></b> + $b_2$ * <b><i>x<sub>2</sub></i></b> + ...\n",
    "\n",
    "The most common linear regression involves finding the best-fit straight line that minimises the mean squared errors (MSE), i.e. difference between the given data points and the corresponding points on the regression line."
   ]
  },
  {
   "cell_type": "markdown",
   "id": "efb4e952",
   "metadata": {},
   "source": [
    "<a id='s1_tutorial'></a>\n",
    "## 2. Tutorial: Linear regression with sklearn for Sales Prediction\n",
    "\n",
    "We usually use the following steps in building machine learning models:\n",
    "1. Data pre-processing.\n",
    "2. Splitting data into two disjoint sets of `training` data and `testing` data.\n",
    "3. Building the model and training it using the `training` data.\n",
    "4. Validating the model by evaluating its performance using the `testing` data.\n",
    "5. Improve the model by analysing its performance. If needed go back to step 1 or 2."
   ]
  },
  {
   "cell_type": "code",
   "execution_count": null,
   "id": "0eb071c9",
   "metadata": {},
   "outputs": [
    {
     "ename": "",
     "evalue": "",
     "output_type": "error",
     "traceback": [
      "\u001b[1;31mRunning cells with 'Python 3.11.9' requires the ipykernel package.\n",
      "\u001b[1;31mRun the following command to install 'ipykernel' into the Python environment. \n",
      "\u001b[1;31mCommand: 'c:/Users/gbrid/AppData/Local/Programs/Python/Python311/python.exe -m pip install ipykernel -U --user --force-reinstall'"
     ]
    }
   ],
   "source": [
    "# import Python's standard libraries\n",
    "import pandas as pd # data preparation\n",
    "import numpy as np # data operation\n",
    "import matplotlib.pyplot as plt # data visualisation\n"
   ]
  },
  {
   "cell_type": "markdown",
   "id": "64de7daf",
   "metadata": {},
   "source": [
    "In this below example of predicting the sales, `Sales` would be our output, and input features (in thousands dollars) are the advertising spent on `TV`, `Radio` and `Newspaper`."
   ]
  },
  {
   "cell_type": "code",
   "execution_count": 2,
   "id": "7234af9a",
   "metadata": {
    "scrolled": true
   },
   "outputs": [
    {
     "data": {
      "text/html": [
       "<div>\n",
       "<style scoped>\n",
       "    .dataframe tbody tr th:only-of-type {\n",
       "        vertical-align: middle;\n",
       "    }\n",
       "\n",
       "    .dataframe tbody tr th {\n",
       "        vertical-align: top;\n",
       "    }\n",
       "\n",
       "    .dataframe thead th {\n",
       "        text-align: right;\n",
       "    }\n",
       "</style>\n",
       "<table border=\"1\" class=\"dataframe\">\n",
       "  <thead>\n",
       "    <tr style=\"text-align: right;\">\n",
       "      <th></th>\n",
       "      <th>TV</th>\n",
       "      <th>Radio</th>\n",
       "      <th>Newspaper</th>\n",
       "      <th>Sales</th>\n",
       "    </tr>\n",
       "  </thead>\n",
       "  <tbody>\n",
       "    <tr>\n",
       "      <th>0</th>\n",
       "      <td>230.1</td>\n",
       "      <td>37.8</td>\n",
       "      <td>69.2</td>\n",
       "      <td>22.1</td>\n",
       "    </tr>\n",
       "    <tr>\n",
       "      <th>1</th>\n",
       "      <td>44.5</td>\n",
       "      <td>39.3</td>\n",
       "      <td>45.1</td>\n",
       "      <td>10.4</td>\n",
       "    </tr>\n",
       "    <tr>\n",
       "      <th>2</th>\n",
       "      <td>17.2</td>\n",
       "      <td>45.9</td>\n",
       "      <td>69.3</td>\n",
       "      <td>9.3</td>\n",
       "    </tr>\n",
       "    <tr>\n",
       "      <th>3</th>\n",
       "      <td>151.5</td>\n",
       "      <td>41.3</td>\n",
       "      <td>58.5</td>\n",
       "      <td>18.5</td>\n",
       "    </tr>\n",
       "    <tr>\n",
       "      <th>4</th>\n",
       "      <td>180.8</td>\n",
       "      <td>10.8</td>\n",
       "      <td>58.4</td>\n",
       "      <td>12.9</td>\n",
       "    </tr>\n",
       "  </tbody>\n",
       "</table>\n",
       "</div>"
      ],
      "text/plain": [
       "      TV  Radio  Newspaper  Sales\n",
       "0  230.1   37.8       69.2   22.1\n",
       "1   44.5   39.3       45.1   10.4\n",
       "2   17.2   45.9       69.3    9.3\n",
       "3  151.5   41.3       58.5   18.5\n",
       "4  180.8   10.8       58.4   12.9"
      ]
     },
     "execution_count": 2,
     "metadata": {},
     "output_type": "execute_result"
    }
   ],
   "source": [
    "# 1) Reading the data from CSV file  \n",
    "adv_df = pd.read_csv(\"data-Advertising.csv\")\n",
    "\n",
    "# 2) Print the Head of the data for basic information \n",
    "adv_df.head() \n"
   ]
  },
  {
   "cell_type": "markdown",
   "id": "db7a04df",
   "metadata": {},
   "source": [
    "Alternatively to the 'Head' with the dataframe, you should also try to use the following functions and see  \n",
    "a)  ` print(adv_df) `  b)  ` info() `    c)  ` describe() `\n",
    "\n",
    "What are the differences you observe between all of them, and the head()?!   "
   ]
  },
  {
   "cell_type": "code",
   "execution_count": 3,
   "id": "85408463",
   "metadata": {},
   "outputs": [
    {
     "name": "stdout",
     "output_type": "stream",
     "text": [
      "        TV  Radio  Newspaper  Sales\n",
      "0    230.1   37.8       69.2   22.1\n",
      "1     44.5   39.3       45.1   10.4\n",
      "2     17.2   45.9       69.3    9.3\n",
      "3    151.5   41.3       58.5   18.5\n",
      "4    180.8   10.8       58.4   12.9\n",
      "..     ...    ...        ...    ...\n",
      "195   38.2    3.7       13.8    7.6\n",
      "196   94.2    4.9        8.1    9.7\n",
      "197  177.0    9.3        6.4   12.8\n",
      "198  283.6   42.0       66.2   25.5\n",
      "199  232.1    8.6        8.7   13.4\n",
      "\n",
      "[200 rows x 4 columns]\n"
     ]
    }
   ],
   "source": [
    "# Using print: What do you see?! \n",
    "print( adv_df )"
   ]
  },
  {
   "cell_type": "code",
   "execution_count": 4,
   "id": "f86c4f3f",
   "metadata": {},
   "outputs": [
    {
     "name": "stdout",
     "output_type": "stream",
     "text": [
      "<class 'pandas.core.frame.DataFrame'>\n",
      "RangeIndex: 200 entries, 0 to 199\n",
      "Data columns (total 4 columns):\n",
      " #   Column     Non-Null Count  Dtype  \n",
      "---  ------     --------------  -----  \n",
      " 0   TV         200 non-null    float64\n",
      " 1   Radio      200 non-null    float64\n",
      " 2   Newspaper  200 non-null    float64\n",
      " 3   Sales      200 non-null    float64\n",
      "dtypes: float64(4)\n",
      "memory usage: 6.4 KB\n"
     ]
    }
   ],
   "source": [
    "# Using info() - What additional information you have?! \n",
    "adv_df.info()  \n",
    "\n",
    "# Tips: Look at the number of enries (in the RangeIndex)  and for every column: look at the number of Non-Null Count (should it be the same?)"
   ]
  },
  {
   "cell_type": "code",
   "execution_count": 5,
   "id": "966a1239",
   "metadata": {},
   "outputs": [
    {
     "data": {
      "text/html": [
       "<div>\n",
       "<style scoped>\n",
       "    .dataframe tbody tr th:only-of-type {\n",
       "        vertical-align: middle;\n",
       "    }\n",
       "\n",
       "    .dataframe tbody tr th {\n",
       "        vertical-align: top;\n",
       "    }\n",
       "\n",
       "    .dataframe thead th {\n",
       "        text-align: right;\n",
       "    }\n",
       "</style>\n",
       "<table border=\"1\" class=\"dataframe\">\n",
       "  <thead>\n",
       "    <tr style=\"text-align: right;\">\n",
       "      <th></th>\n",
       "      <th>TV</th>\n",
       "      <th>Radio</th>\n",
       "      <th>Newspaper</th>\n",
       "      <th>Sales</th>\n",
       "    </tr>\n",
       "  </thead>\n",
       "  <tbody>\n",
       "    <tr>\n",
       "      <th>count</th>\n",
       "      <td>200.000000</td>\n",
       "      <td>200.000000</td>\n",
       "      <td>200.000000</td>\n",
       "      <td>200.000000</td>\n",
       "    </tr>\n",
       "    <tr>\n",
       "      <th>mean</th>\n",
       "      <td>147.042500</td>\n",
       "      <td>23.264000</td>\n",
       "      <td>30.554000</td>\n",
       "      <td>14.022500</td>\n",
       "    </tr>\n",
       "    <tr>\n",
       "      <th>std</th>\n",
       "      <td>85.854236</td>\n",
       "      <td>14.846809</td>\n",
       "      <td>21.778621</td>\n",
       "      <td>5.217457</td>\n",
       "    </tr>\n",
       "    <tr>\n",
       "      <th>min</th>\n",
       "      <td>0.700000</td>\n",
       "      <td>0.000000</td>\n",
       "      <td>0.300000</td>\n",
       "      <td>1.600000</td>\n",
       "    </tr>\n",
       "    <tr>\n",
       "      <th>25%</th>\n",
       "      <td>74.375000</td>\n",
       "      <td>9.975000</td>\n",
       "      <td>12.750000</td>\n",
       "      <td>10.375000</td>\n",
       "    </tr>\n",
       "    <tr>\n",
       "      <th>50%</th>\n",
       "      <td>149.750000</td>\n",
       "      <td>22.900000</td>\n",
       "      <td>25.750000</td>\n",
       "      <td>12.900000</td>\n",
       "    </tr>\n",
       "    <tr>\n",
       "      <th>75%</th>\n",
       "      <td>218.825000</td>\n",
       "      <td>36.525000</td>\n",
       "      <td>45.100000</td>\n",
       "      <td>17.400000</td>\n",
       "    </tr>\n",
       "    <tr>\n",
       "      <th>max</th>\n",
       "      <td>296.400000</td>\n",
       "      <td>49.600000</td>\n",
       "      <td>114.000000</td>\n",
       "      <td>27.000000</td>\n",
       "    </tr>\n",
       "  </tbody>\n",
       "</table>\n",
       "</div>"
      ],
      "text/plain": [
       "               TV       Radio   Newspaper       Sales\n",
       "count  200.000000  200.000000  200.000000  200.000000\n",
       "mean   147.042500   23.264000   30.554000   14.022500\n",
       "std     85.854236   14.846809   21.778621    5.217457\n",
       "min      0.700000    0.000000    0.300000    1.600000\n",
       "25%     74.375000    9.975000   12.750000   10.375000\n",
       "50%    149.750000   22.900000   25.750000   12.900000\n",
       "75%    218.825000   36.525000   45.100000   17.400000\n",
       "max    296.400000   49.600000  114.000000   27.000000"
      ]
     },
     "execution_count": 5,
     "metadata": {},
     "output_type": "execute_result"
    }
   ],
   "source": [
    "# Using describe -  What do you think is it about? \n",
    "adv_df.describe()  "
   ]
  },
  {
   "cell_type": "markdown",
   "id": "aabed206",
   "metadata": {},
   "source": [
    "# Plotting the data \n",
    "It is always a good practice to also plot the the data to visualize its distribution and core information.  \n",
    "Here, we are using ` matplotlib ` scatter plot  "
   ]
  },
  {
   "cell_type": "code",
   "execution_count": 6,
   "id": "0999d01e",
   "metadata": {},
   "outputs": [
    {
     "data": {
      "text/plain": [
       "Text(0, 0.5, 'Sales')"
      ]
     },
     "execution_count": 6,
     "metadata": {},
     "output_type": "execute_result"
    },
    {
     "data": {
      "image/png": "[encoded data removed]",
      "text/plain": [
       "<Figure size 640x480 with 1 Axes>"
      ]
     },
     "metadata": {},
     "output_type": "display_data"
    }
   ],
   "source": [
    "# Using 'matplotlib' scatter plot  \n",
    "\n",
    "# For plotting, please pay attention on the core information x and y, for instance: \n",
    "# ---------------------------\n",
    "# Print what is in the x-axis:  adv_df['TV']  and y-axis:  adv_df['Sales']    --> Notice they have to be the same dimension. \n",
    "# Try yourself to print them:   \n",
    "# print(adv_df['TV'])\n",
    "# print(adv_df['Sales'])\n",
    "# ---------------------------\n",
    "plt.scatter(x = adv_df['TV'], y = adv_df['Sales'], s=10, marker='x')\n",
    "plt.scatter(x = adv_df['Radio'], y = adv_df['Sales'], s=10, marker='+')\n",
    "plt.scatter(x = adv_df['Newspaper'], y = adv_df['Sales'], s=10, marker='*')\n",
    "# ---------------------------\n",
    "# Please take a look at the marker option and scale size.  What happens if you change the size of s?  Want to try?  \n",
    "# Have you tried changing it?! \n",
    "# ---------------------------\n",
    "\n",
    "plt.xlabel('Spent on TV, Radio and Newspaper')\n",
    "plt.ylabel('Sales')\n",
    "\n",
    "\n"
   ]
  },
  {
   "cell_type": "markdown",
   "id": "1ceab710",
   "metadata": {},
   "source": [
    "---"
   ]
  },
  {
   "cell_type": "markdown",
   "id": "fc4766d9",
   "metadata": {},
   "source": [
    "### Step 1. Getting the data ready for machine learning\n",
    "\n",
    "Data preprocessing is improtant to construct successful machine learning models. This includes removing missing values and  outliers. We've looked at this in the previous tutorial and exercise. Good news is there is no missing value in this dataset, shown as below. \n",
    "Check-out the ` isnull() `  function."
   ]
  },
  {
   "cell_type": "code",
   "execution_count": 7,
   "id": "7b74dbdd",
   "metadata": {
    "scrolled": true
   },
   "outputs": [
    {
     "name": "stdout",
     "output_type": "stream",
     "text": [
      "        TV  Radio  Newspaper  Sales\n",
      "0    False  False      False  False\n",
      "1    False  False      False  False\n",
      "2    False  False      False  False\n",
      "3    False  False      False  False\n",
      "4    False  False      False  False\n",
      "..     ...    ...        ...    ...\n",
      "195  False  False      False  False\n",
      "196  False  False      False  False\n",
      "197  False  False      False  False\n",
      "198  False  False      False  False\n",
      "199  False  False      False  False\n",
      "\n",
      "[200 rows x 4 columns]\n"
     ]
    }
   ],
   "source": [
    "# Returns the number of null values per column inofrmation\n",
    "adv_df.isnull().sum()\n",
    "\n",
    "# If you want to understand better the function, take a look on individual parts of it: \n",
    "#\n",
    "# Uncomment the line below and see the output. \n",
    "print(adv_df.isnull()) \n",
    "#\n",
    "# Notice that false and true can be dealt as a binary 0 and 1. Then if you sum-up 1s, you have the number nulls.   \n"
   ]
  },
  {
   "cell_type": "markdown",
   "id": "a53c9c1a",
   "metadata": {},
   "source": [
    "Looking back at the ` describe() ` function, you can see a summary of information for the dataframe. \n",
    "\n",
    "From the below we can see that values of data range between 0, and 296.4. \n",
    "\n",
    "In linear regression, **it's important to scale the data into the same range**; otherwise it'll be difficult to tell the importance of the features in the trained models. See more details of analysis on the learned coefficients in Step 3."
   ]
  },
  {
   "cell_type": "code",
   "execution_count": 11,
   "id": "b0c2226f",
   "metadata": {},
   "outputs": [
    {
     "data": {
      "text/html": [
       "<div>\n",
       "<style scoped>\n",
       "    .dataframe tbody tr th:only-of-type {\n",
       "        vertical-align: middle;\n",
       "    }\n",
       "\n",
       "    .dataframe tbody tr th {\n",
       "        vertical-align: top;\n",
       "    }\n",
       "\n",
       "    .dataframe thead th {\n",
       "        text-align: right;\n",
       "    }\n",
       "</style>\n",
       "<table border=\"1\" class=\"dataframe\">\n",
       "  <thead>\n",
       "    <tr style=\"text-align: right;\">\n",
       "      <th></th>\n",
       "      <th>TV</th>\n",
       "      <th>Radio</th>\n",
       "      <th>Newspaper</th>\n",
       "      <th>Sales</th>\n",
       "    </tr>\n",
       "  </thead>\n",
       "  <tbody>\n",
       "    <tr>\n",
       "      <th>count</th>\n",
       "      <td>200.000000</td>\n",
       "      <td>200.000000</td>\n",
       "      <td>200.000000</td>\n",
       "      <td>200.000000</td>\n",
       "    </tr>\n",
       "    <tr>\n",
       "      <th>mean</th>\n",
       "      <td>147.042500</td>\n",
       "      <td>23.264000</td>\n",
       "      <td>30.554000</td>\n",
       "      <td>14.022500</td>\n",
       "    </tr>\n",
       "    <tr>\n",
       "      <th>std</th>\n",
       "      <td>85.854236</td>\n",
       "      <td>14.846809</td>\n",
       "      <td>21.778621</td>\n",
       "      <td>5.217457</td>\n",
       "    </tr>\n",
       "    <tr>\n",
       "      <th>min</th>\n",
       "      <td>0.700000</td>\n",
       "      <td>0.000000</td>\n",
       "      <td>0.300000</td>\n",
       "      <td>1.600000</td>\n",
       "    </tr>\n",
       "    <tr>\n",
       "      <th>25%</th>\n",
       "      <td>74.375000</td>\n",
       "      <td>9.975000</td>\n",
       "      <td>12.750000</td>\n",
       "      <td>10.375000</td>\n",
       "    </tr>\n",
       "    <tr>\n",
       "      <th>50%</th>\n",
       "      <td>149.750000</td>\n",
       "      <td>22.900000</td>\n",
       "      <td>25.750000</td>\n",
       "      <td>12.900000</td>\n",
       "    </tr>\n",
       "    <tr>\n",
       "      <th>75%</th>\n",
       "      <td>218.825000</td>\n",
       "      <td>36.525000</td>\n",
       "      <td>45.100000</td>\n",
       "      <td>17.400000</td>\n",
       "    </tr>\n",
       "    <tr>\n",
       "      <th>max</th>\n",
       "      <td>296.400000</td>\n",
       "      <td>49.600000</td>\n",
       "      <td>114.000000</td>\n",
       "      <td>27.000000</td>\n",
       "    </tr>\n",
       "  </tbody>\n",
       "</table>\n",
       "</div>"
      ],
      "text/plain": [
       "               TV       Radio   Newspaper       Sales\n",
       "count  200.000000  200.000000  200.000000  200.000000\n",
       "mean   147.042500   23.264000   30.554000   14.022500\n",
       "std     85.854236   14.846809   21.778621    5.217457\n",
       "min      0.700000    0.000000    0.300000    1.600000\n",
       "25%     74.375000    9.975000   12.750000   10.375000\n",
       "50%    149.750000   22.900000   25.750000   12.900000\n",
       "75%    218.825000   36.525000   45.100000   17.400000\n",
       "max    296.400000   49.600000  114.000000   27.000000"
      ]
     },
     "execution_count": 11,
     "metadata": {},
     "output_type": "execute_result"
    }
   ],
   "source": [
    "# Copying the data again from the CSV to Panda:\n",
    "adv_df = pd.read_csv(\"data-Advertising.csv\") \n",
    "\n",
    "# Checking the describe:  \n",
    "adv_df.describe()\n"
   ]
  },
  {
   "cell_type": "markdown",
   "id": "a674696c",
   "metadata": {},
   "source": [
    "## Pre-processing \n",
    "\n",
    "Using the sklearn ( scikit-learn ) makes much easier to work on the regression. "
   ]
  },
  {
   "cell_type": "code",
   "execution_count": 16,
   "id": "bd24fb96",
   "metadata": {},
   "outputs": [
    {
     "data": {
      "text/html": [
       "<div>\n",
       "<style scoped>\n",
       "    .dataframe tbody tr th:only-of-type {\n",
       "        vertical-align: middle;\n",
       "    }\n",
       "\n",
       "    .dataframe tbody tr th {\n",
       "        vertical-align: top;\n",
       "    }\n",
       "\n",
       "    .dataframe thead th {\n",
       "        text-align: right;\n",
       "    }\n",
       "</style>\n",
       "<table border=\"1\" class=\"dataframe\">\n",
       "  <thead>\n",
       "    <tr style=\"text-align: right;\">\n",
       "      <th></th>\n",
       "      <th>0</th>\n",
       "      <th>1</th>\n",
       "      <th>2</th>\n",
       "      <th>3</th>\n",
       "    </tr>\n",
       "  </thead>\n",
       "  <tbody>\n",
       "    <tr>\n",
       "      <th>0</th>\n",
       "      <td>0.775786</td>\n",
       "      <td>0.762097</td>\n",
       "      <td>0.605981</td>\n",
       "      <td>0.807087</td>\n",
       "    </tr>\n",
       "    <tr>\n",
       "      <th>1</th>\n",
       "      <td>0.148123</td>\n",
       "      <td>0.792339</td>\n",
       "      <td>0.394019</td>\n",
       "      <td>0.346457</td>\n",
       "    </tr>\n",
       "    <tr>\n",
       "      <th>2</th>\n",
       "      <td>0.055800</td>\n",
       "      <td>0.925403</td>\n",
       "      <td>0.606860</td>\n",
       "      <td>0.303150</td>\n",
       "    </tr>\n",
       "    <tr>\n",
       "      <th>3</th>\n",
       "      <td>0.509976</td>\n",
       "      <td>0.832661</td>\n",
       "      <td>0.511873</td>\n",
       "      <td>0.665354</td>\n",
       "    </tr>\n",
       "    <tr>\n",
       "      <th>4</th>\n",
       "      <td>0.609063</td>\n",
       "      <td>0.217742</td>\n",
       "      <td>0.510994</td>\n",
       "      <td>0.444882</td>\n",
       "    </tr>\n",
       "  </tbody>\n",
       "</table>\n",
       "</div>"
      ],
      "text/plain": [
       "          0         1         2         3\n",
       "0  0.775786  0.762097  0.605981  0.807087\n",
       "1  0.148123  0.792339  0.394019  0.346457\n",
       "2  0.055800  0.925403  0.606860  0.303150\n",
       "3  0.509976  0.832661  0.511873  0.665354\n",
       "4  0.609063  0.217742  0.510994  0.444882"
      ]
     },
     "metadata": {},
     "output_type": "display_data"
    },
    {
     "data": {
      "text/html": [
       "<div>\n",
       "<style scoped>\n",
       "    .dataframe tbody tr th:only-of-type {\n",
       "        vertical-align: middle;\n",
       "    }\n",
       "\n",
       "    .dataframe tbody tr th {\n",
       "        vertical-align: top;\n",
       "    }\n",
       "\n",
       "    .dataframe thead th {\n",
       "        text-align: right;\n",
       "    }\n",
       "</style>\n",
       "<table border=\"1\" class=\"dataframe\">\n",
       "  <thead>\n",
       "    <tr style=\"text-align: right;\">\n",
       "      <th></th>\n",
       "      <th>TV</th>\n",
       "      <th>Radio</th>\n",
       "      <th>Newspaper</th>\n",
       "      <th>Sales</th>\n",
       "    </tr>\n",
       "  </thead>\n",
       "  <tbody>\n",
       "    <tr>\n",
       "      <th>0</th>\n",
       "      <td>0.775786</td>\n",
       "      <td>0.762097</td>\n",
       "      <td>0.605981</td>\n",
       "      <td>0.807087</td>\n",
       "    </tr>\n",
       "    <tr>\n",
       "      <th>1</th>\n",
       "      <td>0.148123</td>\n",
       "      <td>0.792339</td>\n",
       "      <td>0.394019</td>\n",
       "      <td>0.346457</td>\n",
       "    </tr>\n",
       "    <tr>\n",
       "      <th>2</th>\n",
       "      <td>0.055800</td>\n",
       "      <td>0.925403</td>\n",
       "      <td>0.606860</td>\n",
       "      <td>0.303150</td>\n",
       "    </tr>\n",
       "    <tr>\n",
       "      <th>3</th>\n",
       "      <td>0.509976</td>\n",
       "      <td>0.832661</td>\n",
       "      <td>0.511873</td>\n",
       "      <td>0.665354</td>\n",
       "    </tr>\n",
       "    <tr>\n",
       "      <th>4</th>\n",
       "      <td>0.609063</td>\n",
       "      <td>0.217742</td>\n",
       "      <td>0.510994</td>\n",
       "      <td>0.444882</td>\n",
       "    </tr>\n",
       "  </tbody>\n",
       "</table>\n",
       "</div>"
      ],
      "text/plain": [
       "         TV     Radio  Newspaper     Sales\n",
       "0  0.775786  0.762097   0.605981  0.807087\n",
       "1  0.148123  0.792339   0.394019  0.346457\n",
       "2  0.055800  0.925403   0.606860  0.303150\n",
       "3  0.509976  0.832661   0.511873  0.665354\n",
       "4  0.609063  0.217742   0.510994  0.444882"
      ]
     },
     "metadata": {},
     "output_type": "display_data"
    },
    {
     "data": {
      "text/html": [
       "<div>\n",
       "<style scoped>\n",
       "    .dataframe tbody tr th:only-of-type {\n",
       "        vertical-align: middle;\n",
       "    }\n",
       "\n",
       "    .dataframe tbody tr th {\n",
       "        vertical-align: top;\n",
       "    }\n",
       "\n",
       "    .dataframe thead th {\n",
       "        text-align: right;\n",
       "    }\n",
       "</style>\n",
       "<table border=\"1\" class=\"dataframe\">\n",
       "  <thead>\n",
       "    <tr style=\"text-align: right;\">\n",
       "      <th></th>\n",
       "      <th>TV</th>\n",
       "      <th>Radio</th>\n",
       "      <th>Newspaper</th>\n",
       "      <th>Sales</th>\n",
       "    </tr>\n",
       "  </thead>\n",
       "  <tbody>\n",
       "    <tr>\n",
       "      <th>0</th>\n",
       "      <td>0.775786</td>\n",
       "      <td>0.762097</td>\n",
       "      <td>0.605981</td>\n",
       "      <td>0.807087</td>\n",
       "    </tr>\n",
       "    <tr>\n",
       "      <th>1</th>\n",
       "      <td>0.148123</td>\n",
       "      <td>0.792339</td>\n",
       "      <td>0.394019</td>\n",
       "      <td>0.346457</td>\n",
       "    </tr>\n",
       "    <tr>\n",
       "      <th>2</th>\n",
       "      <td>0.055800</td>\n",
       "      <td>0.925403</td>\n",
       "      <td>0.606860</td>\n",
       "      <td>0.303150</td>\n",
       "    </tr>\n",
       "    <tr>\n",
       "      <th>3</th>\n",
       "      <td>0.509976</td>\n",
       "      <td>0.832661</td>\n",
       "      <td>0.511873</td>\n",
       "      <td>0.665354</td>\n",
       "    </tr>\n",
       "    <tr>\n",
       "      <th>4</th>\n",
       "      <td>0.609063</td>\n",
       "      <td>0.217742</td>\n",
       "      <td>0.510994</td>\n",
       "      <td>0.444882</td>\n",
       "    </tr>\n",
       "  </tbody>\n",
       "</table>\n",
       "</div>"
      ],
      "text/plain": [
       "         TV     Radio  Newspaper     Sales\n",
       "0  0.775786  0.762097   0.605981  0.807087\n",
       "1  0.148123  0.792339   0.394019  0.346457\n",
       "2  0.055800  0.925403   0.606860  0.303150\n",
       "3  0.509976  0.832661   0.511873  0.665354\n",
       "4  0.609063  0.217742   0.510994  0.444882"
      ]
     },
     "execution_count": 16,
     "metadata": {},
     "output_type": "execute_result"
    }
   ],
   "source": [
    "from sklearn import preprocessing\n",
    "\n",
    "# Create an scaler object\n",
    "min_max_scaler = preprocessing.MinMaxScaler() \n",
    "\n",
    "\n",
    "\n",
    "# Pre-processing (scaling) directly from Pandas: \n",
    "#------------------------------\n",
    "# Fit and transform the DataFrame (preserving column names)\n",
    "#adv_df_scaled = adv_df.copy()  # Copy the original DataFrame\n",
    "#adv_df_scaled[adv_df.columns] = min_max_scaler.fit_transform(adv_df)\n",
    "\n",
    "# Alternatively, you can also reassign the DataFrame directly:\n",
    "# adv_df_scaled = pd.DataFrame(scaler.fit_transform(adv_df), columns=adv_df.columns)\n",
    "#\n",
    "# Notice that min_max_scaler.fit_transform(adv_df) returns a numpy.ndarray while adv_df_scaled[adv_df.columns] is Panda type.  \n",
    "# Panda will convert the output of the ndarray fitting it to the correct structure.  \n",
    "#------------------------------\n",
    "\n",
    "\n",
    "\n",
    "# Pre-processing (scaling) transforming it to numpy arrays: \n",
    "#------------------------------\n",
    "# # Alternatively, you can also create numpy array to make the transformation (this should be fairly quicker for large datasets)\n",
    "# # Creates a temporary numpy array\n",
    "\n",
    "### More efficient method for scaling large datasets within values -> could be good for the stockNN system??\n",
    "\n",
    "x = adv_df.values # returns a numpy array\n",
    "x_scaled = min_max_scaler.fit_transform(x) # normalise using the scaler ### fit_transform finds the values to be normalised between and then applies the normalisation, transform just applies the normalisation for the values that have already been found\n",
    "adv_df_scaled = pd.DataFrame(x_scaled) # store back as a pandas Dataframe (creating a new one)\n",
    "display(adv_df_scaled.head())   # --> Notice the head now is numeric. \n",
    "adv_df_scaled.rename(columns={0: 'TV', 1: 'Radio', 2: 'Newspaper', 3: 'Sales'}, inplace=True)\n",
    "display( adv_df_scaled.head() ) # --> See the difference \n",
    "\n",
    "\n",
    "adv_df_scaled.head()\n",
    "\n"
   ]
  },
  {
   "cell_type": "markdown",
   "id": "d20fe625",
   "metadata": {},
   "source": [
    "Now let's get the input and output data ready."
   ]
  },
  {
   "cell_type": "markdown",
   "id": "6187b358",
   "metadata": {},
   "source": [
    "# Input and Output \n",
    "\n",
    "Here we divide the dataset into input and output. \n",
    "- Output (end-effect):  **Sales** \n",
    "- Input  (generators):  **TV** - **Radio** - **Newspaper**  (advertising) \n"
   ]
  },
  {
   "cell_type": "code",
   "execution_count": 17,
   "id": "d02cedab",
   "metadata": {},
   "outputs": [],
   "source": [
    "adv_df_output = adv_df_scaled['Sales']"
   ]
  },
  {
   "cell_type": "code",
   "execution_count": 18,
   "id": "42dc2e28",
   "metadata": {},
   "outputs": [
    {
     "data": {
      "text/html": [
       "<div>\n",
       "<style scoped>\n",
       "    .dataframe tbody tr th:only-of-type {\n",
       "        vertical-align: middle;\n",
       "    }\n",
       "\n",
       "    .dataframe tbody tr th {\n",
       "        vertical-align: top;\n",
       "    }\n",
       "\n",
       "    .dataframe thead th {\n",
       "        text-align: right;\n",
       "    }\n",
       "</style>\n",
       "<table border=\"1\" class=\"dataframe\">\n",
       "  <thead>\n",
       "    <tr style=\"text-align: right;\">\n",
       "      <th></th>\n",
       "      <th>TV</th>\n",
       "      <th>Radio</th>\n",
       "      <th>Newspaper</th>\n",
       "    </tr>\n",
       "  </thead>\n",
       "  <tbody>\n",
       "    <tr>\n",
       "      <th>0</th>\n",
       "      <td>0.775786</td>\n",
       "      <td>0.762097</td>\n",
       "      <td>0.605981</td>\n",
       "    </tr>\n",
       "    <tr>\n",
       "      <th>1</th>\n",
       "      <td>0.148123</td>\n",
       "      <td>0.792339</td>\n",
       "      <td>0.394019</td>\n",
       "    </tr>\n",
       "    <tr>\n",
       "      <th>2</th>\n",
       "      <td>0.055800</td>\n",
       "      <td>0.925403</td>\n",
       "      <td>0.606860</td>\n",
       "    </tr>\n",
       "    <tr>\n",
       "      <th>3</th>\n",
       "      <td>0.509976</td>\n",
       "      <td>0.832661</td>\n",
       "      <td>0.511873</td>\n",
       "    </tr>\n",
       "    <tr>\n",
       "      <th>4</th>\n",
       "      <td>0.609063</td>\n",
       "      <td>0.217742</td>\n",
       "      <td>0.510994</td>\n",
       "    </tr>\n",
       "  </tbody>\n",
       "</table>\n",
       "</div>"
      ],
      "text/plain": [
       "         TV     Radio  Newspaper\n",
       "0  0.775786  0.762097   0.605981\n",
       "1  0.148123  0.792339   0.394019\n",
       "2  0.055800  0.925403   0.606860\n",
       "3  0.509976  0.832661   0.511873\n",
       "4  0.609063  0.217742   0.510994"
      ]
     },
     "execution_count": 18,
     "metadata": {},
     "output_type": "execute_result"
    }
   ],
   "source": [
    "adv_df_input = adv_df_scaled.drop(columns=['Sales'])\n",
    "adv_df_input.head()"
   ]
  },
  {
   "cell_type": "markdown",
   "id": "4168c4e5",
   "metadata": {},
   "source": [
    "---"
   ]
  },
  {
   "cell_type": "markdown",
   "id": "fe9b9b08",
   "metadata": {},
   "source": []
  },
  {
   "cell_type": "markdown",
   "id": "46f537b7",
   "metadata": {},
   "source": [
    "### Step 2: split training and testing sets\n",
    "<img align=\"right\" width=300, src=\"train-and-test-datasets.png\" style=\"padding-left:1rem;\">\n",
    "\n",
    "`sklearn` provides a module called `train_test_split` to randomly split data into training and test sets thus to minimise the potential bias brought by manually partitioning the data.\n",
    "- The <b>training set</b> is used for building and tuning the model\n",
    "- The <b>test set</b> should not be used in training, but used as unseen new data to evaluate the actual performance of the trained model"
   ]
  },
  {
   "cell_type": "code",
   "execution_count": 19,
   "id": "a26e95dd",
   "metadata": {},
   "outputs": [],
   "source": [
    "# import the scikit-learn module \"model_selection\" \n",
    "from sklearn.model_selection import train_test_split\n",
    "\n",
    "# prepare the training and testing datasets by a ratio of 70:30, with parameter `test_size`\n",
    "x_train, x_test, y_train, y_test = train_test_split(adv_df_input, adv_df_output, test_size = 0.3, random_state=1)"
   ]
  },
  {
   "cell_type": "markdown",
   "id": "8ddf2ee9",
   "metadata": {},
   "source": [
    "---"
   ]
  },
  {
   "cell_type": "markdown",
   "id": "87fddaa2",
   "metadata": {},
   "source": [
    "### Step 3: model training with the training data\n",
    "The `fit()` method in the imported `LinearRegression` module trains the model with our <b>training data</b> as arguments."
   ]
  },
  {
   "cell_type": "code",
   "execution_count": 20,
   "id": "392aae6f",
   "metadata": {
    "scrolled": true
   },
   "outputs": [
    {
     "data": {
      "text/html": [
       "<style>#sk-container-id-1 {\n",
       "  /* Definition of color scheme common for light and dark mode */\n",
       "  --sklearn-color-text: #000;\n",
       "  --sklearn-color-text-muted: #666;\n",
       "  --sklearn-color-line: gray;\n",
       "  /* Definition of color scheme for unfitted estimators */\n",
       "  --sklearn-color-unfitted-level-0: #fff5e6;\n",
       "  --sklearn-color-unfitted-level-1: #f6e4d2;\n",
       "  --sklearn-color-unfitted-level-2: #ffe0b3;\n",
       "  --sklearn-color-unfitted-level-3: chocolate;\n",
       "  /* Definition of color scheme for fitted estimators */\n",
       "  --sklearn-color-fitted-level-0: #f0f8ff;\n",
       "  --sklearn-color-fitted-level-1: #d4ebff;\n",
       "  --sklearn-color-fitted-level-2: #b3dbfd;\n",
       "  --sklearn-color-fitted-level-3: cornflowerblue;\n",
       "\n",
       "  /* Specific color for light theme */\n",
       "  --sklearn-color-text-on-default-background: var(--sg-text-color, var(--theme-code-foreground, var(--jp-content-font-color1, black)));\n",
       "  --sklearn-color-background: var(--sg-background-color, var(--theme-background, var(--jp-layout-color0, white)));\n",
       "  --sklearn-color-border-box: var(--sg-text-color, var(--theme-code-foreground, var(--jp-content-font-color1, black)));\n",
       "  --sklearn-color-icon: #696969;\n",
       "\n",
       "  @media (prefers-color-scheme: dark) {\n",
       "    /* Redefinition of color scheme for dark theme */\n",
       "    --sklearn-color-text-on-default-background: var(--sg-text-color, var(--theme-code-foreground, var(--jp-content-font-color1, white)));\n",
       "    --sklearn-color-background: var(--sg-background-color, var(--theme-background, var(--jp-layout-color0, #111)));\n",
       "    --sklearn-color-border-box: var(--sg-text-color, var(--theme-code-foreground, var(--jp-content-font-color1, white)));\n",
       "    --sklearn-color-icon: #878787;\n",
       "  }\n",
       "}\n",
       "\n",
       "#sk-container-id-1 {\n",
       "  color: var(--sklearn-color-text);\n",
       "}\n",
       "\n",
       "#sk-container-id-1 pre {\n",
       "  padding: 0;\n",
       "}\n",
       "\n",
       "#sk-container-id-1 input.sk-hidden--visually {\n",
       "  border: 0;\n",
       "  clip: rect(1px 1px 1px 1px);\n",
       "  clip: rect(1px, 1px, 1px, 1px);\n",
       "  height: 1px;\n",
       "  margin: -1px;\n",
       "  overflow: hidden;\n",
       "  padding: 0;\n",
       "  position: absolute;\n",
       "  width: 1px;\n",
       "}\n",
       "\n",
       "#sk-container-id-1 div.sk-dashed-wrapped {\n",
       "  border: 1px dashed var(--sklearn-color-line);\n",
       "  margin: 0 0.4em 0.5em 0.4em;\n",
       "  box-sizing: border-box;\n",
       "  padding-bottom: 0.4em;\n",
       "  background-color: var(--sklearn-color-background);\n",
       "}\n",
       "\n",
       "#sk-container-id-1 div.sk-container {\n",
       "  /* jupyter's `normalize.less` sets `[hidden] { display: none; }`\n",
       "     but bootstrap.min.css set `[hidden] { display: none !important; }`\n",
       "     so we also need the `!important` here to be able to override the\n",
       "     default hidden behavior on the sphinx rendered scikit-learn.org.\n",
       "     See: https://github.com/scikit-learn/scikit-learn/issues/21755 */\n",
       "  display: inline-block !important;\n",
       "  position: relative;\n",
       "}\n",
       "\n",
       "#sk-container-id-1 div.sk-text-repr-fallback {\n",
       "  display: none;\n",
       "}\n",
       "\n",
       "div.sk-parallel-item,\n",
       "div.sk-serial,\n",
       "div.sk-item {\n",
       "  /* draw centered vertical line to link estimators */\n",
       "  background-image: linear-gradient(var(--sklearn-color-text-on-default-background), var(--sklearn-color-text-on-default-background));\n",
       "  background-size: 2px 100%;\n",
       "  background-repeat: no-repeat;\n",
       "  background-position: center center;\n",
       "}\n",
       "\n",
       "/* Parallel-specific style estimator block */\n",
       "\n",
       "#sk-container-id-1 div.sk-parallel-item::after {\n",
       "  content: \"\";\n",
       "  width: 100%;\n",
       "  border-bottom: 2px solid var(--sklearn-color-text-on-default-background);\n",
       "  flex-grow: 1;\n",
       "}\n",
       "\n",
       "#sk-container-id-1 div.sk-parallel {\n",
       "  display: flex;\n",
       "  align-items: stretch;\n",
       "  justify-content: center;\n",
       "  background-color: var(--sklearn-color-background);\n",
       "  position: relative;\n",
       "}\n",
       "\n",
       "#sk-container-id-1 div.sk-parallel-item {\n",
       "  display: flex;\n",
       "  flex-direction: column;\n",
       "}\n",
       "\n",
       "#sk-container-id-1 div.sk-parallel-item:first-child::after {\n",
       "  align-self: flex-end;\n",
       "  width: 50%;\n",
       "}\n",
       "\n",
       "#sk-container-id-1 div.sk-parallel-item:last-child::after {\n",
       "  align-self: flex-start;\n",
       "  width: 50%;\n",
       "}\n",
       "\n",
       "#sk-container-id-1 div.sk-parallel-item:only-child::after {\n",
       "  width: 0;\n",
       "}\n",
       "\n",
       "/* Serial-specific style estimator block */\n",
       "\n",
       "#sk-container-id-1 div.sk-serial {\n",
       "  display: flex;\n",
       "  flex-direction: column;\n",
       "  align-items: center;\n",
       "  background-color: var(--sklearn-color-background);\n",
       "  padding-right: 1em;\n",
       "  padding-left: 1em;\n",
       "}\n",
       "\n",
       "\n",
       "/* Toggleable style: style used for estimator/Pipeline/ColumnTransformer box that is\n",
       "clickable and can be expanded/collapsed.\n",
       "- Pipeline and ColumnTransformer use this feature and define the default style\n",
       "- Estimators will overwrite some part of the style using the `sk-estimator` class\n",
       "*/\n",
       "\n",
       "/* Pipeline and ColumnTransformer style (default) */\n",
       "\n",
       "#sk-container-id-1 div.sk-toggleable {\n",
       "  /* Default theme specific background. It is overwritten whether we have a\n",
       "  specific estimator or a Pipeline/ColumnTransformer */\n",
       "  background-color: var(--sklearn-color-background);\n",
       "}\n",
       "\n",
       "/* Toggleable label */\n",
       "#sk-container-id-1 label.sk-toggleable__label {\n",
       "  cursor: pointer;\n",
       "  display: flex;\n",
       "  width: 100%;\n",
       "  margin-bottom: 0;\n",
       "  padding: 0.5em;\n",
       "  box-sizing: border-box;\n",
       "  text-align: center;\n",
       "  align-items: start;\n",
       "  justify-content: space-between;\n",
       "  gap: 0.5em;\n",
       "}\n",
       "\n",
       "#sk-container-id-1 label.sk-toggleable__label .caption {\n",
       "  font-size: 0.6rem;\n",
       "  font-weight: lighter;\n",
       "  color: var(--sklearn-color-text-muted);\n",
       "}\n",
       "\n",
       "#sk-container-id-1 label.sk-toggleable__label-arrow:before {\n",
       "  /* Arrow on the left of the label */\n",
       "  content: \"▸\";\n",
       "  float: left;\n",
       "  margin-right: 0.25em;\n",
       "  color: var(--sklearn-color-icon);\n",
       "}\n",
       "\n",
       "#sk-container-id-1 label.sk-toggleable__label-arrow:hover:before {\n",
       "  color: var(--sklearn-color-text);\n",
       "}\n",
       "\n",
       "/* Toggleable content - dropdown */\n",
       "\n",
       "#sk-container-id-1 div.sk-toggleable__content {\n",
       "  max-height: 0;\n",
       "  max-width: 0;\n",
       "  overflow: hidden;\n",
       "  text-align: left;\n",
       "  /* unfitted */\n",
       "  background-color: var(--sklearn-color-unfitted-level-0);\n",
       "}\n",
       "\n",
       "#sk-container-id-1 div.sk-toggleable__content.fitted {\n",
       "  /* fitted */\n",
       "  background-color: var(--sklearn-color-fitted-level-0);\n",
       "}\n",
       "\n",
       "#sk-container-id-1 div.sk-toggleable__content pre {\n",
       "  margin: 0.2em;\n",
       "  border-radius: 0.25em;\n",
       "  color: var(--sklearn-color-text);\n",
       "  /* unfitted */\n",
       "  background-color: var(--sklearn-color-unfitted-level-0);\n",
       "}\n",
       "\n",
       "#sk-container-id-1 div.sk-toggleable__content.fitted pre {\n",
       "  /* unfitted */\n",
       "  background-color: var(--sklearn-color-fitted-level-0);\n",
       "}\n",
       "\n",
       "#sk-container-id-1 input.sk-toggleable__control:checked~div.sk-toggleable__content {\n",
       "  /* Expand drop-down */\n",
       "  max-height: 200px;\n",
       "  max-width: 100%;\n",
       "  overflow: auto;\n",
       "}\n",
       "\n",
       "#sk-container-id-1 input.sk-toggleable__control:checked~label.sk-toggleable__label-arrow:before {\n",
       "  content: \"▾\";\n",
       "}\n",
       "\n",
       "/* Pipeline/ColumnTransformer-specific style */\n",
       "\n",
       "#sk-container-id-1 div.sk-label input.sk-toggleable__control:checked~label.sk-toggleable__label {\n",
       "  color: var(--sklearn-color-text);\n",
       "  background-color: var(--sklearn-color-unfitted-level-2);\n",
       "}\n",
       "\n",
       "#sk-container-id-1 div.sk-label.fitted input.sk-toggleable__control:checked~label.sk-toggleable__label {\n",
       "  background-color: var(--sklearn-color-fitted-level-2);\n",
       "}\n",
       "\n",
       "/* Estimator-specific style */\n",
       "\n",
       "/* Colorize estimator box */\n",
       "#sk-container-id-1 div.sk-estimator input.sk-toggleable__control:checked~label.sk-toggleable__label {\n",
       "  /* unfitted */\n",
       "  background-color: var(--sklearn-color-unfitted-level-2);\n",
       "}\n",
       "\n",
       "#sk-container-id-1 div.sk-estimator.fitted input.sk-toggleable__control:checked~label.sk-toggleable__label {\n",
       "  /* fitted */\n",
       "  background-color: var(--sklearn-color-fitted-level-2);\n",
       "}\n",
       "\n",
       "#sk-container-id-1 div.sk-label label.sk-toggleable__label,\n",
       "#sk-container-id-1 div.sk-label label {\n",
       "  /* The background is the default theme color */\n",
       "  color: var(--sklearn-color-text-on-default-background);\n",
       "}\n",
       "\n",
       "/* On hover, darken the color of the background */\n",
       "#sk-container-id-1 div.sk-label:hover label.sk-toggleable__label {\n",
       "  color: var(--sklearn-color-text);\n",
       "  background-color: var(--sklearn-color-unfitted-level-2);\n",
       "}\n",
       "\n",
       "/* Label box, darken color on hover, fitted */\n",
       "#sk-container-id-1 div.sk-label.fitted:hover label.sk-toggleable__label.fitted {\n",
       "  color: var(--sklearn-color-text);\n",
       "  background-color: var(--sklearn-color-fitted-level-2);\n",
       "}\n",
       "\n",
       "/* Estimator label */\n",
       "\n",
       "#sk-container-id-1 div.sk-label label {\n",
       "  font-family: monospace;\n",
       "  font-weight: bold;\n",
       "  display: inline-block;\n",
       "  line-height: 1.2em;\n",
       "}\n",
       "\n",
       "#sk-container-id-1 div.sk-label-container {\n",
       "  text-align: center;\n",
       "}\n",
       "\n",
       "/* Estimator-specific */\n",
       "#sk-container-id-1 div.sk-estimator {\n",
       "  font-family: monospace;\n",
       "  border: 1px dotted var(--sklearn-color-border-box);\n",
       "  border-radius: 0.25em;\n",
       "  box-sizing: border-box;\n",
       "  margin-bottom: 0.5em;\n",
       "  /* unfitted */\n",
       "  background-color: var(--sklearn-color-unfitted-level-0);\n",
       "}\n",
       "\n",
       "#sk-container-id-1 div.sk-estimator.fitted {\n",
       "  /* fitted */\n",
       "  background-color: var(--sklearn-color-fitted-level-0);\n",
       "}\n",
       "\n",
       "/* on hover */\n",
       "#sk-container-id-1 div.sk-estimator:hover {\n",
       "  /* unfitted */\n",
       "  background-color: var(--sklearn-color-unfitted-level-2);\n",
       "}\n",
       "\n",
       "#sk-container-id-1 div.sk-estimator.fitted:hover {\n",
       "  /* fitted */\n",
       "  background-color: var(--sklearn-color-fitted-level-2);\n",
       "}\n",
       "\n",
       "/* Specification for estimator info (e.g. \"i\" and \"?\") */\n",
       "\n",
       "/* Common style for \"i\" and \"?\" */\n",
       "\n",
       ".sk-estimator-doc-link,\n",
       "a:link.sk-estimator-doc-link,\n",
       "a:visited.sk-estimator-doc-link {\n",
       "  float: right;\n",
       "  font-size: smaller;\n",
       "  line-height: 1em;\n",
       "  font-family: monospace;\n",
       "  background-color: var(--sklearn-color-background);\n",
       "  border-radius: 1em;\n",
       "  height: 1em;\n",
       "  width: 1em;\n",
       "  text-decoration: none !important;\n",
       "  margin-left: 0.5em;\n",
       "  text-align: center;\n",
       "  /* unfitted */\n",
       "  border: var(--sklearn-color-unfitted-level-1) 1pt solid;\n",
       "  color: var(--sklearn-color-unfitted-level-1);\n",
       "}\n",
       "\n",
       ".sk-estimator-doc-link.fitted,\n",
       "a:link.sk-estimator-doc-link.fitted,\n",
       "a:visited.sk-estimator-doc-link.fitted {\n",
       "  /* fitted */\n",
       "  border: var(--sklearn-color-fitted-level-1) 1pt solid;\n",
       "  color: var(--sklearn-color-fitted-level-1);\n",
       "}\n",
       "\n",
       "/* On hover */\n",
       "div.sk-estimator:hover .sk-estimator-doc-link:hover,\n",
       ".sk-estimator-doc-link:hover,\n",
       "div.sk-label-container:hover .sk-estimator-doc-link:hover,\n",
       ".sk-estimator-doc-link:hover {\n",
       "  /* unfitted */\n",
       "  background-color: var(--sklearn-color-unfitted-level-3);\n",
       "  color: var(--sklearn-color-background);\n",
       "  text-decoration: none;\n",
       "}\n",
       "\n",
       "div.sk-estimator.fitted:hover .sk-estimator-doc-link.fitted:hover,\n",
       ".sk-estimator-doc-link.fitted:hover,\n",
       "div.sk-label-container:hover .sk-estimator-doc-link.fitted:hover,\n",
       ".sk-estimator-doc-link.fitted:hover {\n",
       "  /* fitted */\n",
       "  background-color: var(--sklearn-color-fitted-level-3);\n",
       "  color: var(--sklearn-color-background);\n",
       "  text-decoration: none;\n",
       "}\n",
       "\n",
       "/* Span, style for the box shown on hovering the info icon */\n",
       ".sk-estimator-doc-link span {\n",
       "  display: none;\n",
       "  z-index: 9999;\n",
       "  position: relative;\n",
       "  font-weight: normal;\n",
       "  right: .2ex;\n",
       "  padding: .5ex;\n",
       "  margin: .5ex;\n",
       "  width: min-content;\n",
       "  min-width: 20ex;\n",
       "  max-width: 50ex;\n",
       "  color: var(--sklearn-color-text);\n",
       "  box-shadow: 2pt 2pt 4pt #999;\n",
       "  /* unfitted */\n",
       "  background: var(--sklearn-color-unfitted-level-0);\n",
       "  border: .5pt solid var(--sklearn-color-unfitted-level-3);\n",
       "}\n",
       "\n",
       ".sk-estimator-doc-link.fitted span {\n",
       "  /* fitted */\n",
       "  background: var(--sklearn-color-fitted-level-0);\n",
       "  border: var(--sklearn-color-fitted-level-3);\n",
       "}\n",
       "\n",
       ".sk-estimator-doc-link:hover span {\n",
       "  display: block;\n",
       "}\n",
       "\n",
       "/* \"?\"-specific style due to the `<a>` HTML tag */\n",
       "\n",
       "#sk-container-id-1 a.estimator_doc_link {\n",
       "  float: right;\n",
       "  font-size: 1rem;\n",
       "  line-height: 1em;\n",
       "  font-family: monospace;\n",
       "  background-color: var(--sklearn-color-background);\n",
       "  border-radius: 1rem;\n",
       "  height: 1rem;\n",
       "  width: 1rem;\n",
       "  text-decoration: none;\n",
       "  /* unfitted */\n",
       "  color: var(--sklearn-color-unfitted-level-1);\n",
       "  border: var(--sklearn-color-unfitted-level-1) 1pt solid;\n",
       "}\n",
       "\n",
       "#sk-container-id-1 a.estimator_doc_link.fitted {\n",
       "  /* fitted */\n",
       "  border: var(--sklearn-color-fitted-level-1) 1pt solid;\n",
       "  color: var(--sklearn-color-fitted-level-1);\n",
       "}\n",
       "\n",
       "/* On hover */\n",
       "#sk-container-id-1 a.estimator_doc_link:hover {\n",
       "  /* unfitted */\n",
       "  background-color: var(--sklearn-color-unfitted-level-3);\n",
       "  color: var(--sklearn-color-background);\n",
       "  text-decoration: none;\n",
       "}\n",
       "\n",
       "#sk-container-id-1 a.estimator_doc_link.fitted:hover {\n",
       "  /* fitted */\n",
       "  background-color: var(--sklearn-color-fitted-level-3);\n",
       "}\n",
       "</style><div id=\"sk-container-id-1\" class=\"sk-top-container\"><div class=\"sk-text-repr-fallback\"><pre>LinearRegression()</pre><b>In a Jupyter environment, please rerun this cell to show the HTML representation or trust the notebook. <br />On GitHub, the HTML representation is unable to render, please try loading this page with nbviewer.org.</b></div><div class=\"sk-container\" hidden><div class=\"sk-item\"><div class=\"sk-estimator fitted sk-toggleable\"><input class=\"sk-toggleable__control sk-hidden--visually\" id=\"sk-estimator-id-1\" type=\"checkbox\" checked><label for=\"sk-estimator-id-1\" class=\"sk-toggleable__label fitted sk-toggleable__label-arrow\"><div><div>LinearRegression</div></div><div><a class=\"sk-estimator-doc-link fitted\" rel=\"noreferrer\" target=\"_blank\" href=\"https://scikit-learn.org/1.6/modules/generated/sklearn.linear_model.LinearRegression.html\">?<span>Documentation for LinearRegression</span></a><span class=\"sk-estimator-doc-link fitted\">i<span>Fitted</span></span></div></label><div class=\"sk-toggleable__content fitted\"><pre>LinearRegression()</pre></div> </div></div></div></div>"
      ],
      "text/plain": [
       "LinearRegression()"
      ]
     },
     "execution_count": 20,
     "metadata": {},
     "output_type": "execute_result"
    }
   ],
   "source": [
    "# import the scikit-learn module \"linear_model\" to build / train / fit the model\n",
    "from sklearn.linear_model import LinearRegression\n",
    "\n",
    "# instantiate the linear regression algorithm\n",
    "lr = LinearRegression() \n",
    "\n",
    "# the `fit` method trains the algorithm with the training data prepared in Step 2\n",
    "lr.fit(x_train, y_train) #Automatically sets the number of inputs to the number of columns in the dataframe > for this case its 3 -> (spending on:) Tv Radio Newspaper\n",
    "\n",
    "### command 'fit' fits the model to the training data using a linear function\n",
    "### essentially an advanced way of finding the most accurate line of best fit through each data point in the data set\n",
    "### to get more advanced lines -> ie quadratic equations a deep neural network is needed "
   ]
  },
  {
   "cell_type": "markdown",
   "id": "cb81c1e6",
   "metadata": {},
   "source": [
    "## Interpreting the Linear Regression\n",
    "<img align=\"right\" width=230, src=\"img-mse.png\">\n",
    "<img align=\"right\" width=230 src=\"img-lr.png\">\n",
    "\n",
    "The linear regression training algorithm `fit` learns the optimal intercept and slope (coefficients) in a regression line that best fits the training data.\n",
    "\n",
    "## What does the coefficients mean?!\n",
    "We can print these learned values as below, and interpret the trained model as follows: around 0.55 and 0.34 dollar advertising on TV and Radio is associated with an increase of approximately 1 dollar in Sales. Avertising on Newspaper contribute almost nothing to the Sales. By comparing the coefficents of the three input features, we can conclude that avertising on TV is more important than that of Radio."
   ]
  },
  {
   "cell_type": "code",
   "execution_count": 21,
   "id": "68cb7faa",
   "metadata": {},
   "outputs": [
    {
     "name": "stdout",
     "output_type": "stream",
     "text": [
      "\n",
      "\n",
      "Index(['TV', 'Radio', 'Newspaper'], dtype='object')\n",
      "Coefficient/slope: [0.54660317 0.3448302  0.00828646]\n",
      "Intercept: 0.053962106855284575\n",
      "\n",
      "\n",
      "--> Zero-Advertise - Sales output:  0.053962106855284575\n",
      "--> Linear influence from TV-ads -- That is, sales = TVadsmult * adsUSD  ---  TVadsmult:  0.5466031702811378\n",
      "--> Linear influence from Radio  -- That is, sales = Radiomult * adsUSD  ---  Radiomult:  0.344830204303205\n",
      "--> Linear influence from Newsp  -- That is, sales = NewsPmult * adsUSD  ---  NewsPmult:  0.008286461903860056\n"
     ]
    }
   ],
   "source": [
    "print('\\n')\n",
    "print(adv_df_input.columns)\n",
    "print('Coefficient/slope:',lr.coef_) \n",
    "### .coef_ shows the weights that each input is multiplied by to get the equation of the line\n",
    "### as we have 3 inputs the equation of the line is in the form :\n",
    "###     y = Ax+By+Cz+D, where A,B and C are the inputs TV spending, Radio spending and newspaper spending, and D is some arbitrary value\n",
    "###     so .coefs_ represents x,y,z ie the weight that each element in the input has on the line\n",
    "\n",
    "print('Intercept:',lr.intercept_)\n",
    "\n",
    "print('\\n')\n",
    "# Or better displayed\n",
    "print('--> Zero-Advertise - Sales output: ', lr.intercept_)    # This is a constant value!  \n",
    "print('--> Linear influence from TV-ads -- That is, sales = TVadsmult * adsUSD  ---  TVadsmult: ', lr.coef_[0])  \n",
    "print('--> Linear influence from Radio  -- That is, sales = Radiomult * adsUSD  ---  Radiomult: ', lr.coef_[1])  \n",
    "print('--> Linear influence from Newsp  -- That is, sales = NewsPmult * adsUSD  ---  NewsPmult: ', lr.coef_[2])  \n"
   ]
  },
  {
   "cell_type": "markdown",
   "id": "82f64c66",
   "metadata": {},
   "source": [
    "### Discussion: \n",
    "In practice, the company should stop advertising on Newspapers. In building the linear regression model, we should remove this input feature, as it's not useful and incurr unnessary computing cost in the training. Without the scaling in Step 1, it would be difficult to compare them! "
   ]
  },
  {
   "cell_type": "code",
   "execution_count": 22,
   "id": "20919b0d",
   "metadata": {},
   "outputs": [
    {
     "name": "stdout",
     "output_type": "stream",
     "text": [
      "\n",
      "\n",
      "The linear regression function learned between x an y is:  \n",
      "\n",
      " y = 0.053962106855284575 + 0.5466031702811378 * TV + 0.344830204303205 * Radio + 0.008286461903860056 * Newspaper\n"
     ]
    }
   ],
   "source": [
    "print('\\n')\n",
    "print('The linear regression function learned between x an y is:  \\n\\n y =', lr.intercept_, '+', lr.coef_[0], '* TV', \n",
    "      '+', lr.coef_[1], '* Radio', '+', lr.coef_[2], '* Newspaper')"
   ]
  },
  {
   "cell_type": "markdown",
   "id": "5aef2898",
   "metadata": {},
   "source": [
    "---"
   ]
  },
  {
   "cell_type": "markdown",
   "id": "949e53be",
   "metadata": {},
   "source": [
    "### Step 4: Test / evaluation on testing data\n",
    "\n",
    "The `metrics` module in `sklearn` provides method to calculate the `mean_squared_error` MSE between the predictions and the true labels.\n",
    "\n",
    "We need to know how far off is our regression (approximation)."
   ]
  },
  {
   "cell_type": "code",
   "execution_count": 23,
   "id": "1a115e52",
   "metadata": {},
   "outputs": [
    {
     "name": "stdout",
     "output_type": "stream",
     "text": [
      "\n",
      " Mean Square Error (MSE):  0.002989839586252364\n"
     ]
    }
   ],
   "source": [
    "# import the scikin-learn module \"metrics\" to evaluate the trained model on the test dataset\n",
    "from sklearn import metrics\n",
    "\n",
    "# Predict using the linear model on the testing data (input) prepared in Step 1\n",
    "y_pred = lr.predict(x_test)\n",
    "\n",
    "# Calculate the model performance, i.e. predicted output vs. actual output of test data prepared in Step 1\n",
    "print('\\n Mean Square Error (MSE): ',metrics.mean_squared_error(y_test, y_pred))"
   ]
  },
  {
   "cell_type": "markdown",
   "id": "e2de2322",
   "metadata": {},
   "source": [
    "Is this a \"good\" (low enough) MSE value?<br>\n",
    "It's hard to say, as it depends on the domain (range of `Sales` values). MSE is most useful to compare different models."
   ]
  },
  {
   "cell_type": "code",
   "execution_count": 24,
   "id": "dd73ae01",
   "metadata": {},
   "outputs": [
    {
     "data": {
      "text/plain": [
       "Text(0, 0.5, 'Sales')"
      ]
     },
     "execution_count": 24,
     "metadata": {},
     "output_type": "execute_result"
    },
    {
     "data": {
      "image/png": "[encoded data removed]",
      "text/plain": [
       "<Figure size 640x480 with 1 Axes>"
      ]
     },
     "metadata": {},
     "output_type": "display_data"
    }
   ],
   "source": [
    "# visualise the line that best fits the example dataset.\n",
    "\n",
    "# Plotting the datapoints \n",
    "#-------------------------------\n",
    "plt.scatter(x_train['TV'], y_train, marker=\"x\",s=20) # training data points\n",
    "plt.scatter(x_train['Radio'], y_train, marker=\"+\",s=20)\n",
    "plt.scatter(x_train['Newspaper'], y_train, marker=\"*\",s=20)\n",
    "\n",
    "# Plotting the regression line \n",
    "#-------------------------------\n",
    "plt.plot(lr.coef_[2] * x_test['Newspaper'] + lr.coef_[1] * x_test['Radio'] + lr.coef_[0] * x_test['TV'] + lr.intercept_,\n",
    "    y_pred, color='orange') # linear regression model\n",
    "\n",
    "# Legend information\n",
    "#-------------------------------\n",
    "plt.legend(['Actual data','Regression line'])\n",
    "plt.xlabel('x')\n",
    "plt.ylabel('Sales')"
   ]
  },
  {
   "cell_type": "markdown",
   "id": "8597373f",
   "metadata": {},
   "source": [
    "<img align=\"right\" width=400, src=\"img-kfolds.png\">\n",
    "\n",
    "<b>K-fold cross-validation</b> is a resampling method to evaluate machine learning models. It partitions the dataset into <i>k</i> parts for <i>k</i> runs of training. In each of the <i>k</i> runs, (<i>k</i>-1) partitions are used to train the model, and the remaining one partition is used to test the trained model.\n",
    "\n",
    "The overall average performance of the <i>k</i> testings, instead of just a single train/test split, provides more accurate evaluation on the trained model, and thus a better indication of the model's performance on new unseen data.\n",
    "\n",
    "The `cross_val_score` method in `sklearn` trains and tests a model over multiple folds of the data in a \"pipeline\". There is no need to manually partition the data. We just need to define <i>k</i> by parameter `cv`, send the whole input data X and outoput y to `cross_val_score`, and provide the metric by parameter `scoring`. \n",
    "\n",
    "Note: *In the sklearn `cross_val_score` method, the score is calculated as a negative value. We can simply negate the score to obtain the MSE.*"
   ]
  },
  {
   "cell_type": "code",
   "execution_count": 25,
   "id": "5f3df889",
   "metadata": {},
   "outputs": [
    {
     "data": {
      "text/plain": [
       "array([-0.00486165, -0.00375979, -0.0024571 , -0.00841056, -0.00432628])"
      ]
     },
     "execution_count": 25,
     "metadata": {},
     "output_type": "execute_result"
    }
   ],
   "source": [
    "from sklearn.model_selection import cross_val_score\n",
    "\n",
    "lr1 = LinearRegression()\n",
    "\n",
    "# conduct and calculate k MSE scores for the k cross validations\n",
    "cross_val_score(lr1, adv_df_input, adv_df_output, cv=5, scoring='neg_mean_squared_error')"
   ]
  },
  {
   "cell_type": "code",
   "execution_count": 26,
   "id": "a1155551",
   "metadata": {},
   "outputs": [
    {
     "data": {
      "text/plain": [
       "np.float64(0.004763076751658828)"
      ]
     },
     "execution_count": 26,
     "metadata": {},
     "output_type": "execute_result"
    }
   ],
   "source": [
    "# calculate the mean of the k runs\n",
    "cross_val_score(lr1, adv_df_input, adv_df_output, cv=5, scoring='neg_mean_squared_error').mean()*-1"
   ]
  },
  {
   "cell_type": "markdown",
   "id": "08790f47",
   "metadata": {},
   "source": [
    "---"
   ]
  },
  {
   "cell_type": "markdown",
   "id": "14fb1f46",
   "metadata": {},
   "source": [
    "### Step 5: improve the model based on analysis\n",
    "\n",
    "Linear regression is usually reliable, with little parameter to tune. There is usually less scope to improve the model by tuning the parameter. However, we can see that the scores from each of the <i>k</i> runs could be quite different, meaning the performance depends very much on how the data is partitioned. How would you resolve this issue?"
   ]
  },
  {
   "cell_type": "markdown",
   "id": "3acea0c5",
   "metadata": {},
   "source": [
    "---"
   ]
  },
  {
   "cell_type": "markdown",
   "id": "83a8202d",
   "metadata": {},
   "source": [
    "## 3. Mini-Challenge 2: weight-height project"
   ]
  },
  {
   "cell_type": "markdown",
   "id": "7edf9000",
   "metadata": {},
   "source": [
    "<div class=\"alert alert-success\">\n",
    "    <h3>Mini-Challenge (Submit to Moodle!)</h3>\n",
    "</div>\n",
    "\n",
    "The `data-weight-height.csv` file contains the height and weight of 10,000 individuals of 18 years old. Your challenge is to implement a linear regression model with this data to predict the heights of men or women with their weights.\n",
    "\n",
    "Once you have completed all the following tasks in the mini-challenge, you should submit your plot from Task 5.2 to Moodle for \"Mini-challenge 2\"\n",
    "\n",
    "***This challenge is good practice for your coursework. The class will receive anonymised feedback at a lecture based on everyone's responses.***"
   ]
  },
  {
   "cell_type": "markdown",
   "id": "99a04f9c",
   "metadata": {},
   "source": [
    "### Step 0: Import required libraries"
   ]
  },
  {
   "cell_type": "markdown",
   "id": "f141797c",
   "metadata": {},
   "source": [
    "You will need `pandas` and `sklearn` libraries to build a linear regression model, maybe also `matplotlib` to visualise the results."
   ]
  },
  {
   "cell_type": "code",
   "execution_count": null,
   "id": "4afc0acd",
   "metadata": {},
   "outputs": [],
   "source": [
    "#Your code here\n",
    "\n"
   ]
  },
  {
   "cell_type": "markdown",
   "id": "004380a3",
   "metadata": {},
   "source": [
    "### Step 1: Pre-process the data\n",
    "\n",
    "<b>Task 1.1</b> is to import the data file from your folder with pandas and store it in a pandas Dataframe called `df`."
   ]
  },
  {
   "cell_type": "code",
   "execution_count": null,
   "id": "0c1fff64",
   "metadata": {},
   "outputs": [],
   "source": [
    "path_to_file = \"data-weight-height.csv\"\n",
    "# df = ...\n",
    "\n"
   ]
  },
  {
   "cell_type": "markdown",
   "id": "b4a66630",
   "metadata": {},
   "source": [
    "<b>Task 1.2</b> is to create two new dataframes, `df_m` and `df_f`, to store samples with values of `Male` and `Female` in the `Gender` column, respectively.\n",
    "\n",
    "Hint: Pandas can easily slice columns by referring to column's name i.e. `df['column']` or with a condition, i.e. `df[df['column']=='value']`. Refer to Exercise 1 if needed."
   ]
  },
  {
   "cell_type": "code",
   "execution_count": null,
   "id": "e36be98b",
   "metadata": {},
   "outputs": [],
   "source": [
    "\n",
    "# Create two DataFrames based on the Gender column\n"
   ]
  },
  {
   "cell_type": "markdown",
   "id": "3759a98d",
   "metadata": {},
   "source": [
    "Then visualize and observe the relationship between weight and height for males and females in the dataset."
   ]
  },
  {
   "cell_type": "code",
   "execution_count": null,
   "id": "f190abb3",
   "metadata": {},
   "outputs": [],
   "source": [
    "# In matplotlib, later plot is added on top of the previous ones, automatically distinguished with different colors\n",
    "# <To make it easier, we derived some code below. Just adapt to your variables> \n",
    "\n",
    "# plt.scatter(df_f['Weight'], df_f['Height'], marker=\".\", alpha=0.3)\n",
    "# plt.scatter(df_m['Weight'], df_m['Height'], marker=\"x\", alpha=0.3)\n",
    "# plt.legend(['Female','Male'])\n",
    "# plt.xlabel('Weight')\n",
    "# plt.ylabel('Height')\n",
    "# plt.title('Weight vs. Height: Men vs. Women')"
   ]
  },
  {
   "cell_type": "markdown",
   "id": "b894de12",
   "metadata": {},
   "source": [
    "Data preprocessing may involve handling missing values, transforming variables, or scaling the data. In this example, the data has already been preprocessed, so now ready for building the machine learning model."
   ]
  },
  {
   "cell_type": "markdown",
   "id": "ad4014d7",
   "metadata": {},
   "source": [
    "---"
   ]
  },
  {
   "cell_type": "markdown",
   "id": "b0b919ea",
   "metadata": {},
   "source": [
    "### Step 2: Split the data\n",
    "\n",
    "<b>Task 2.1</b> is to split the data `df_f` into input variables `X_f` and output variables `y_f`. The aim is to predict the heights of women or men using their weights. So `Weight` will be the input variable, and `Height` the output variable.\n",
    "\n",
    "Hint: The input variables should be stored in a 2D array, and the output variables should be stored in a 1D array. "
   ]
  },
  {
   "cell_type": "code",
   "execution_count": null,
   "id": "ff4ccee3",
   "metadata": {},
   "outputs": [],
   "source": [
    "# X_f = ...\n",
    "# y_f = ...\n",
    "\n"
   ]
  },
  {
   "cell_type": "markdown",
   "id": "aecbcc4b",
   "metadata": {},
   "source": [
    "<b>Task 2.2</b> is to split the data into training and test sets with `train_test_split()` method."
   ]
  },
  {
   "cell_type": "code",
   "execution_count": null,
   "id": "e0ef2513",
   "metadata": {},
   "outputs": [],
   "source": [
    "#Your code here\n",
    "\n"
   ]
  },
  {
   "cell_type": "markdown",
   "id": "e7c3fe9c",
   "metadata": {},
   "source": [
    "### Step 3: Build a linear regression model"
   ]
  },
  {
   "cell_type": "code",
   "execution_count": null,
   "id": "dd9de933",
   "metadata": {},
   "outputs": [],
   "source": [
    "#Your code here\n",
    "\n"
   ]
  },
  {
   "cell_type": "markdown",
   "id": "7ae18230",
   "metadata": {},
   "source": [
    "### Step 4: Evaluate performance of the model with test data"
   ]
  },
  {
   "cell_type": "code",
   "execution_count": null,
   "id": "afcb8c8e",
   "metadata": {},
   "outputs": [],
   "source": [
    "# Your code here\n"
   ]
  },
  {
   "cell_type": "markdown",
   "id": "94726033",
   "metadata": {},
   "source": [
    "### Step 5: Analyse and improve if needed\n",
    "\n",
    "<b>Task 5.1</b> Print the linear function learned between weight and height using the female weight-height data."
   ]
  },
  {
   "cell_type": "code",
   "execution_count": null,
   "id": "d9890f60",
   "metadata": {},
   "outputs": [],
   "source": [
    "# Your code here\n"
   ]
  },
  {
   "cell_type": "markdown",
   "id": "52284fa0",
   "metadata": {},
   "source": [
    "<b>Task 5.2</b>: Visualise the relationship between weight and height for females in the dataset. Include a line plot of the regression function in the same plot."
   ]
  },
  {
   "cell_type": "code",
   "execution_count": null,
   "id": "7fe6fd43",
   "metadata": {},
   "outputs": [],
   "source": [
    "# Your code here\n",
    "\n"
   ]
  },
  {
   "cell_type": "markdown",
   "id": "e4d1827b",
   "metadata": {},
   "source": [
    "<div class=\"alert alert-info\">\n",
    "    <h3>Task 6: Build the linear regression model with Cross Validation</h3>\n",
    "</div>\n",
    "\n",
    "Build a linear regression model for predicting the height of a `Male` using his weight, using the cross-validation approach."
   ]
  },
  {
   "cell_type": "code",
   "execution_count": null,
   "id": "ba90010e",
   "metadata": {},
   "outputs": [],
   "source": [
    "# You code here\n",
    "\n"
   ]
  },
  {
   "cell_type": "markdown",
   "id": "6819af07",
   "metadata": {},
   "source": [
    "<div class=\"alert alert-warning\">\n",
    "    <h4>Optional Task</h4>\n",
    "</div>\n",
    "Is the linear regression model good at predicting the weight if given the height? Show the results to support your answer.<br>\n",
    "(Hint: How does the MSE compare to the range of weight?)"
   ]
  },
  {
   "cell_type": "code",
   "execution_count": null,
   "id": "d4ebd331",
   "metadata": {},
   "outputs": [],
   "source": [
    "# You code here\n",
    "\n"
   ]
  },
  {
   "cell_type": "markdown",
   "id": "0b7bfd73",
   "metadata": {},
   "source": [
    "<div class=\"alert alert-success\">\n",
    "    <h2>🍰 End</h2> \n",
    "</div>"
   ]
  }
 ],
 "metadata": {
  "kernelspec": {
   "display_name": "Python 3",
   "language": "python",
   "name": "python3"
  },
  "language_info": {
   "codemirror_mode": {
    "name": "ipython",
    "version": 3
   },
   "file_extension": ".py",
   "mimetype": "text/x-python",
   "name": "python",
   "nbconvert_exporter": "python",
   "pygments_lexer": "ipython3",
   "version": "3.11.9"
  }
 },
 "nbformat": 4,
 "nbformat_minor": 5
}
