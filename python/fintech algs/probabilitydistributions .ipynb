{
 "cells": [
  {
   "cell_type": "markdown",
   "id": "f205bc31-7160-4dd9-8759-d36c9454643f",
   "metadata": {},
   "source": [
    "# Introduction to Probability Distributions in Python\n",
    "\n",
    "In this notebook, we will explore the concept of probability distributions using Python. Probability distributions are a fundamental concept in statistics that describe how the values of a random variable are distributed. Understanding these distributions is crucial for making informed decisions based on data.\n",
    "\n",
    "We'll cover:\n",
    "\n",
    "1. **What are Probability Distributions?**  \n",
    "   We'll define probability distributions and explain their significance in statistical analysis.\n",
    "\n",
    "\n",
    "3. **Visualizing Distributions:**  \n",
    "   We will use Python libraries such as Matplotlib and Seaborn to visualize various probability distributions, helping to better understand their shapes and characteristics.\n",
    "\n",
    "By the end of this notebook, you will have a solid understanding of probability distributions and how to work with them in Python, enabling you to analyze and interpret data more effectively.\n"
   ]
  },
  {
   "cell_type": "markdown",
   "id": "af6496b5-496d-48e4-9bfe-2351379a93f5",
   "metadata": {},
   "source": [
    "# Importing Necessary Libraries\n",
    "\n",
    "In this section, we import the essential libraries for our analysis:\n",
    "\n",
    "- **Pandas:** For data manipulation and analysis.\n",
    "- **NumPy:** For numerical operations and handling arrays.\n",
    "- **Matplotlib:** For creating static visualizations.\n",
    "- **Seaborn:** For enhanced statistical graphics and data visualization.\n",
    "- **SciPy Stats:** For statistical functions and probability distributions."
   ]
  },
  {
   "cell_type": "code",
   "execution_count": 2,
   "id": "7b058436-1924-41d3-83ec-e510f8fabe1d",
   "metadata": {
    "tags": []
   },
   "outputs": [],
   "source": [
    "import pandas as pd\n",
    "import numpy as np\n",
    "import matplotlib.pyplot as plt\n",
    "import seaborn as sns\n",
    "import scipy.stats as stats"
   ]
  },
  {
   "cell_type": "markdown",
   "id": "18efc0db-2a20-44fc-af90-eab06a608f7a",
   "metadata": {},
   "source": [
    "# Simulating Dice Rolls\n",
    "\n",
    "In this code snippet, we create a DataFrame to represent a die with values from 1 to 6. We then simulate rolling 2 dice with replacement and calculate the sum of the rolls. Finally, we print the result of the summed rolls.\n"
   ]
  },
  {
   "cell_type": "code",
   "execution_count": 3,
   "id": "8ee718a8-6d4c-477b-a3b0-1cf50a342a3a",
   "metadata": {
    "tags": []
   },
   "outputs": [
    {
     "name": "stdout",
     "output_type": "stream",
     "text": [
      "Sum of dice is 9\n"
     ]
    }
   ],
   "source": [
    "import pandas as pd\n",
    "\n",
    "# Create a DataFrame representing a die with values 1 to 6\n",
    "die = pd.DataFrame([1, 2, 3, 4, 5, 6])\n",
    "\n",
    "# Sample 2 dice rolls with replacement (can pick the same number twice)\n",
    "sum_of_dice = die.sample(2, replace=True).sum().loc[0]\n",
    "\n",
    "# Print the result of the sum of the dice rolls\n",
    "print('Sum of dice is', sum_of_dice)\n"
   ]
  },
  {
   "cell_type": "markdown",
   "id": "94b97851-76ea-4e55-b3a8-7b141fdca4a6",
   "metadata": {},
   "source": [
    "# Simulating Multiple Trials of Dice Rolls\n",
    "\n",
    "In this section, we perform 50 trials of rolling 2 dice with replacement. We store the sum of each trial in a list called `result`. The first 10 results of these trials are displayed for review.\n"
   ]
  },
  {
   "cell_type": "code",
   "execution_count": 4,
   "id": "bc4f2ed4-fca0-4431-a318-4dd9ac2b0279",
   "metadata": {
    "tags": []
   },
   "outputs": [
    {
     "data": {
      "text/plain": [
       "[8, 7, 10, 4, 7, 4, 8, 8, 10, 9]"
      ]
     },
     "execution_count": 4,
     "metadata": {},
     "output_type": "execute_result"
    }
   ],
   "source": [
    "trial = 50\n",
    "\n",
    "result = [die.sample(2, replace=True).sum().loc[0] for i in range(trial)]\n",
    "result[:10]"
   ]
  },
  {
   "cell_type": "markdown",
   "id": "8040157a-70fc-44d0-9453-f554119f6c0d",
   "metadata": {},
   "source": [
    "# Performing Multiple Trials of Dice Rolls\n",
    "\n",
    "In this section, we define a variable `trial` to represent the number of simulations we want to perform, which is set to 50. We then create a list called `result` that stores the sum of two dice rolls for each of these trials. The dice rolls are sampled with replacement, meaning the same number can appear multiple times. Finally, we display the first 10 results from our list of trials to see the outcomes of our dice rolls.\n"
   ]
  },
  {
   "cell_type": "code",
   "execution_count": 5,
   "id": "5b1c02e5-6846-4cf9-bf72-770042c40222",
   "metadata": {
    "tags": []
   },
   "outputs": [
    {
     "data": {
      "text/plain": [
       "[11, 10, 11, 3, 6, 8, 12, 5, 12, 7]"
      ]
     },
     "execution_count": 5,
     "metadata": {},
     "output_type": "execute_result"
    }
   ],
   "source": [
    "trial = 50  # Define the number of trials (simulations) to perform\n",
    "\n",
    "# Create a list of results by sampling two dice rolls (with replacement) for each trial\n",
    "# The sample is done 50 times, and the sum of the two dice is calculated for each trial\n",
    "result = [die.sample(2, replace=True).sum().loc[0] for i in range(trial)]\n",
    "\n",
    "# Display the first 10 results of the dice rolls\n",
    "result[:10]\n"
   ]
  },
  {
   "cell_type": "markdown",
   "id": "5ce3ce21-8560-439a-b6a3-06052af32c2a",
   "metadata": {},
   "source": [
    "# Analyzing Frequency of Dice Roll Sums\n",
    "\n",
    "In this section, we create a DataFrame called `freq` from the `result` list, which contains the sums of the dice rolls from our trials. We then use the `value_counts()` method to count how often each sum occurs. Next, we sort these frequency counts by their corresponding sums (ranging from 2 to 12) to ensure they are presented in numerical order. Finally, we display the sorted frequency counts to analyze the distribution of sums obtained from our dice rolls.\n"
   ]
  },
  {
   "cell_type": "code",
   "execution_count": 6,
   "id": "da4e8b6c-3790-448e-bec3-369c493fac34",
   "metadata": {
    "tags": []
   },
   "outputs": [
    {
     "data": {
      "text/plain": [
       "0\n",
       "3      5\n",
       "4      1\n",
       "5      5\n",
       "6      6\n",
       "7     10\n",
       "8      6\n",
       "9      5\n",
       "10     4\n",
       "11     5\n",
       "12     3\n",
       "Name: count, dtype: int64"
      ]
     },
     "execution_count": 6,
     "metadata": {},
     "output_type": "execute_result"
    }
   ],
   "source": [
    "# Create a DataFrame from the 'result' list (containing sums of dice rolls)\n",
    "# and extract the first column (column index 0) to work with the values\n",
    "freq = pd.DataFrame(result)[0].value_counts()\n",
    "\n",
    "# Sort the frequency counts by the index (the possible sums of dice rolls, which range from 2 to 12)\n",
    "# This ensures the frequencies are listed in the correct numerical order of the sums\n",
    "sort_freq = freq.sort_index()\n",
    "\n",
    "# Display the sorted frequency counts\n",
    "sort_freq\n"
   ]
  },
  {
   "cell_type": "markdown",
   "id": "2bfdac65-dc2e-42f0-889f-0cebd3ba1fd5",
   "metadata": {},
   "source": [
    "# Visualizing the Frequency of Dice Roll Sums\n",
    "\n",
    "Here, we plot the sorted frequency counts of the dice roll sums using a bar chart. The `kind='bar'` parameter specifies that we want a bar chart, while the `color='blue'` parameter sets the color of the bars to blue. This visualization allows us to easily see how frequently each sum occurred in our trials, helping us to understand the distribution of outcomes from rolling the dice.\n"
   ]
  },
  {
   "cell_type": "code",
   "execution_count": 7,
   "id": "05b55927-64da-421a-b041-29b2c4786479",
   "metadata": {
    "tags": []
   },
   "outputs": [
    {
     "data": {
      "text/plain": [
       "<Axes: xlabel='0'>"
      ]
     },
     "execution_count": 7,
     "metadata": {},
     "output_type": "execute_result"
    },
    {
     "data": {
      "image/png": "[encoded data removed]",
      "text/plain": [
       "<Figure size 640x480 with 1 Axes>"
      ]
     },
     "metadata": {},
     "output_type": "display_data"
    }
   ],
   "source": [
    "sort_freq.plot(kind='bar', color='blue')"
   ]
  },
  {
   "cell_type": "markdown",
   "id": "28922c37-b92d-4f8e-835d-e895b72572b9",
   "metadata": {},
   "source": [
    "# Theoretical Probability Distribution of Dice Rolls\n",
    "\n",
    "In this section, we assume that the dice are fair, meaning each face has an equal chance of appearing. This allows us to define the theoretical distribution of the random variable, which is the sum of two dice rolls. \n",
    "\n",
    "We create a DataFrame to represent the possible sums of rolling two dice, which can range from 2 to 12. We then assign probabilities to each possible sum based on how many ways each sum can occur. For example, the sum of 7 has the highest probability because it can be obtained through more combinations of the dice. \n",
    "\n",
    "The probabilities are calculated by dividing the count of occurrences by 36, the total number of possible outcomes when rolling two dice (6 faces each). The resulting DataFrame shows the theoretical probability distribution for each sum.\n"
   ]
  },
  {
   "cell_type": "code",
   "execution_count": 16,
   "id": "99d5aded-1b92-4a81-9e4d-3a98348ae0a5",
   "metadata": {},
   "outputs": [
    {
     "data": {
      "text/html": [
       "<div>\n",
       "<style scoped>\n",
       "    .dataframe tbody tr th:only-of-type {\n",
       "        vertical-align: middle;\n",
       "    }\n",
       "\n",
       "    .dataframe tbody tr th {\n",
       "        vertical-align: top;\n",
       "    }\n",
       "\n",
       "    .dataframe thead th {\n",
       "        text-align: right;\n",
       "    }\n",
       "</style>\n",
       "<table border=\"1\" class=\"dataframe\">\n",
       "  <thead>\n",
       "    <tr style=\"text-align: right;\">\n",
       "      <th></th>\n",
       "      <th>Prob</th>\n",
       "    </tr>\n",
       "  </thead>\n",
       "  <tbody>\n",
       "    <tr>\n",
       "      <th>2</th>\n",
       "      <td>0.027778</td>\n",
       "    </tr>\n",
       "    <tr>\n",
       "      <th>3</th>\n",
       "      <td>0.055556</td>\n",
       "    </tr>\n",
       "    <tr>\n",
       "      <th>4</th>\n",
       "      <td>0.083333</td>\n",
       "    </tr>\n",
       "    <tr>\n",
       "      <th>5</th>\n",
       "      <td>0.111111</td>\n",
       "    </tr>\n",
       "    <tr>\n",
       "      <th>6</th>\n",
       "      <td>0.138889</td>\n",
       "    </tr>\n",
       "    <tr>\n",
       "      <th>7</th>\n",
       "      <td>0.166667</td>\n",
       "    </tr>\n",
       "    <tr>\n",
       "      <th>8</th>\n",
       "      <td>0.138889</td>\n",
       "    </tr>\n",
       "    <tr>\n",
       "      <th>9</th>\n",
       "      <td>0.111111</td>\n",
       "    </tr>\n",
       "    <tr>\n",
       "      <th>10</th>\n",
       "      <td>0.083333</td>\n",
       "    </tr>\n",
       "    <tr>\n",
       "      <th>11</th>\n",
       "      <td>0.055556</td>\n",
       "    </tr>\n",
       "    <tr>\n",
       "      <th>12</th>\n",
       "      <td>0.027778</td>\n",
       "    </tr>\n",
       "  </tbody>\n",
       "</table>\n",
       "</div>"
      ],
      "text/plain": [
       "        Prob\n",
       "2   0.027778\n",
       "3   0.055556\n",
       "4   0.083333\n",
       "5   0.111111\n",
       "6   0.138889\n",
       "7   0.166667\n",
       "8   0.138889\n",
       "9   0.111111\n",
       "10  0.083333\n",
       "11  0.055556\n",
       "12  0.027778"
      ]
     },
     "execution_count": 16,
     "metadata": {},
     "output_type": "execute_result"
    }
   ],
   "source": [
    "# We assume that we have fair dice, meaning all faces (1 to 6) have an equal chance of appearing.\n",
    "# This allows us to know the theoretical 'distribution' of the random variable, which in this case is the sum of two dice.\n",
    "\n",
    "# Create a DataFrame to represent the possible sums of rolling two dice (2 to 12).\n",
    "X_distri = pd.DataFrame(index=[2, 3, 4, 5, 6, 7, 8, 9, 10, 11, 12])\n",
    "\n",
    "# Assign probabilities to each possible sum based on how many ways each sum can occur.\n",
    "# For example, a sum of 7 has the highest probability because there are more combinations of dice that add up to 7.\n",
    "# 2 can only occur 1 events, 3 can occur in 2 events, 4 can occur in 3 events, 5 can occur in 4 events etc\n",
    "X_distri['Prob'] = [1, 2, 3, 4, 5, 6, 5, 4, 3, 2, 1]\n",
    "\n",
    "# Convert these counts to probabilities by dividing each by 36 (since there are 6 * 6 = 36 possible outcomes when rolling two dice).\n",
    "X_distri['Prob'] = X_distri['Prob'] / 36\n",
    "\n",
    "# Display the resulting probability distribution, where each sum (from 2 to 12) is assigned a probability.\n",
    "X_distri\n"
   ]
  },
  {
   "cell_type": "markdown",
   "id": "084924dd-b442-4af9-9200-e4c9e57c474c",
   "metadata": {},
   "source": [
    "# Calculating the Mean and Variance of the Probability Distribution\n",
    "\n",
    "In this step, we calculate the mean and variance of the theoretical probability distribution we created earlier. \n",
    "\n",
    "- **Mean:** The mean is computed by multiplying each possible sum (the index of our DataFrame) by its corresponding probability, and then summing these values. This gives us the expected value of the sums when rolling two dice.\n",
    "\n",
    "- **Variance:** The variance measures how spread out the possible sums are around the mean. It's calculated by taking the squared difference between each sum and the mean, multiplying by the corresponding probability, and summing these values.\n",
    "\n",
    "Finally, we print the mean and variance to understand the expected outcome and the variability of the sums from rolling the dice.\n"
   ]
  },
  {
   "cell_type": "code",
   "execution_count": 18,
   "id": "80ffffc1-bc0f-4d13-9060-51aef67f5d0e",
   "metadata": {
    "tags": []
   },
   "outputs": [
    {
     "name": "stdout",
     "output_type": "stream",
     "text": [
      "6.999999999999998 5.833333333333333\n"
     ]
    }
   ],
   "source": [
    "mean = pd.Series(X_distri.index * X_distri['Prob']).sum()\n",
    "var = pd.Series(((X_distri.index - mean)**2)*X_distri['Prob']).sum()\n",
    "print(mean, var)"
   ]
  },
  {
   "cell_type": "markdown",
   "id": "70c1a09d-4916-4cb5-b13f-aee9b85cfa8c",
   "metadata": {},
   "source": [
    "# Your Turn: Create Your Own Probability Distribution\n",
    "\n",
    "Now it's your turn to practice what you've learned! Follow the steps below to create a probability distribution for a different scenario, such as rolling three dice.\n",
    "\n",
    "### Instructions:\n",
    "1. **Create a DataFrame** for the possible sums of rolling three dice (the sums will range from 3 to 18).\n",
    "2. **Determine the probabilities** for each possible sum based on how many ways each sum can occur. \n",
    "3. **Calculate the mean and variance** for this new probability distribution just like we did for the two dice.\n",
    "4. **Print the mean and variance** to observe the expected outcome and variability.\n",
    "\n",
    "### Tips:\n",
    "- Remember that when rolling three dice, there are a total of 6 * 6 * 6 = 216 possible outcomes.\n",
    "- Consider how many combinations can result in each sum, similar to the earlier example.\n",
    "\n",
    "Happy coding!\n"
   ]
  },
  {
   "cell_type": "code",
   "execution_count": null,
   "id": "ec1e0820-bc8c-42f3-b4ad-eb570ca434d8",
   "metadata": {},
   "outputs": [],
   "source": []
  }
 ],
 "metadata": {
  "kernelspec": {
   "display_name": "Python 3 (ipykernel)",
   "language": "python",
   "name": "python3"
  },
  "language_info": {
   "codemirror_mode": {
    "name": "ipython",
    "version": 3
   },
   "file_extension": ".py",
   "mimetype": "text/x-python",
   "name": "python",
   "nbconvert_exporter": "python",
   "pygments_lexer": "ipython3",
   "version": "3.11.5"
  }
 },
 "nbformat": 4,
 "nbformat_minor": 5
}
