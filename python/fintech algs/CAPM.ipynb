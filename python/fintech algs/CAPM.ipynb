{
 "cells": [
  {
   "cell_type": "markdown",
   "id": "92fd2779-a964-4d0b-ad91-fb317bf4ae10",
   "metadata": {
    "tags": []
   },
   "source": [
    "# Capital Asset Pricing Model (CAPM) with Apple Stock\n",
    "\n",
    "In this notebook, we will walk through how to build and interpret the **Capital Asset Pricing Model (CAPM)** using Apple's stock data. CAPM is a key financial model that helps us understand the relationship between **expected return** and **risk** in the stock market.\n",
    "\n",
    "### What is CAPM?\n",
    "\n",
    "The **Capital Asset Pricing Model** is used to estimate the expected return of an asset based on its risk relative to the overall market. It provides a formula that relates the **expected return of an asset** to its **beta** (a measure of how much the asset's returns move with the market), the **risk-free rate**, and the **market return**. \n",
    "\n",
    "The formula for CAPM is:\n",
    "\\[\n",
    "\\text{Expected Return} = \\text{Risk-Free Rate} + \\beta \\times (\\text{Market Return} - \\text{Risk-Free Rate})\n",
    "\\]\n",
    "\n",
    "Where:\n",
    "- **Risk-Free Rate**: The return on a \"risk-free\" investment, like a government bond.\n",
    "- **Beta**: A measure of how much the stock's returns move in relation to the overall market.\n",
    "- **Market Return**: The average return of the stock market (we'll use a market index like the S&P 500).\n",
    "\n",
    "### Why is CAPM Useful?\n",
    "\n",
    "CAPM helps investors understand:\n",
    "- **Risk vs. Return**: It shows the trade-off between the risk of an investment and the return it should provide.\n",
    "- **Stock Pricing**: Whether a stock is undervalued or overvalued based on its risk compared to the market.\n",
    "- **Portfolio Management**: CAPM is widely used in portfolio construction to assess if the expected returns justify the risks.\n",
    "\n",
    "### What We'll Do\n",
    "\n",
    "1. **Download Apple's stock data** and the **market index data**.\n",
    "2. **Calculate the daily returns** for both Apple and the market.\n",
    "3. **Estimate Apple's beta** by comparing its returns to the market.\n",
    "4. Use the **CAPM formula** to predict Apple's expected return based on its beta.\n",
    "\n",
    "By the end, you'll have a solid understanding of how CAPM works and how it can be applied to real stock data.\n",
    "\n",
    "Let's get started!\n"
   ]
  },
  {
   "cell_type": "code",
   "execution_count": null,
   "id": "1809de3c-7792-4495-a033-574d74e22a77",
   "metadata": {},
   "outputs": [],
   "source": [
    "import numpy as np\n",
    "import pandas as pd\n",
    "import matplotlib.pyplot as plt\n",
    "\n",
    "\n",
    "\n",
    "# Load stock and market data from CSV files\n",
    "stock = pd.read_csv('AAPL_data.csv', parse_dates=True, index_col='date')\n",
    "market = pd.read_csv('SPX.csv', parse_dates=True, index_col='Date') #Getting the information date indexed \n",
    "\n",
    "# Make sure 'Adj Close' column is present for adjusted close prices\n",
    "print(stock.head())  # Check the data structure\n",
    "print(market.head())  # Check the market data structure\n",
    "\n"
   ]
  },
  {
   "cell_type": "code",
   "execution_count": 14,
   "id": "109f5ff3-ce03-43f9-95a6-10e6e20328b7",
   "metadata": {
    "tags": []
   },
   "outputs": [
    {
     "name": "stdout",
     "output_type": "stream",
     "text": [
      "Expected Return: 0.08719742339681233\n"
     ]
    }
   ],
   "source": [
    "# Calculate daily returns for stock and market\n",
    "stock['Returns'] = stock['close'].pct_change()  # Stock returns\n",
    "market['Market Returns'] = market['Adj Close'].pct_change()  # Market index returns\n",
    "\n",
    "\n",
    "\n",
    "risk_free_rate = 0.015  # Example: 1.5% annual risk-free rate\n",
    "\n",
    "\n",
    "\n",
    "\n",
    "\n",
    "# Beta is the covariance of stock and market divided by the variance of the market\n",
    "beta = 1.2 #A general value for the beta of apple - can also be calculated but we are simplifying the process\n",
    "\n",
    "# Annualized market return (assuming 252 trading days per year)\n",
    "market_return = market['Market Returns'].mean() * 252\n",
    "\n",
    "# CAPM formula to calculate expected return\n",
    "expected_return = risk_free_rate + beta * (market_return - risk_free_rate)\n",
    "print(f\"Expected Return: {expected_return}\")\n",
    "\n",
    "\n",
    "\n",
    "#The expected return of approximately 0.0872 (or 8.72%) indicates the annual return you can anticipate from an investment in the stock based on the Capital Asset Pricing Model (CAPM). \n"
   ]
  },
  {
   "cell_type": "markdown",
   "id": "ac4441f5-ee21-432a-8f8b-2187fa4de435",
   "metadata": {},
   "source": [
    "### Now It's Your Turn: Apply CAPM to Tesla Stock\n",
    "\n",
    "In the previous example, we calculated the **expected return** for Apple stock using the Capital Asset Pricing Model (CAPM). Now, let’s apply the same approach to **Tesla's stock**!\n",
    "\n",
    "### Steps to Follow:\n",
    "\n",
    "1. **Load Tesla's stock data** and the **market index data** (S&P 500) from CSV files.\n",
    "2. **Calculate daily returns** for Tesla and the market index.\n",
    "3. **Research the Beta for Tesla** – you can easily find Tesla's beta value online (for simplicity, we won't calculate it from scratch here).\n",
    "4. Use the **CAPM formula** to calculate the expected return for Tesla, based on the beta you found and the market returns.\n",
    "\n",
    "### Why Are We Doing This?\n",
    "\n",
    "This exercise helps you apply CAPM to another real-world example. Understanding CAPM with different stocks will improve your ability to assess **risk vs. return** and how various stocks perform relative to the market.\n",
    "\n",
    "### Now let's get started with Tesla!\n"
   ]
  },
  {
   "cell_type": "code",
   "execution_count": null,
   "id": "b8d9c913-e5a9-47bf-9191-1762665ca0b6",
   "metadata": {},
   "outputs": [],
   "source": [
    "# Load stock and market data from CSV files\n",
    "\n",
    "\n",
    "\n",
    "# Import necessary libraries\n",
    "# import numpy as np\n",
    "# import pandas as pd\n",
    "# import matplotlib.pyplot as plt\n",
    "\n",
    "# Step 1: Load Tesla stock and market index (S&P 500) data\n",
    "\n",
    "\n",
    "# Step 2: Check the data structure to ensure everything is correct\n",
    "\n",
    "# Step 3: Calculate daily returns for Tesla stock and the market index\n",
    "\n",
    "\n",
    "# Step 4: Research the beta value for Tesla (look it up online)\n",
    "\n",
    "\n",
    "# Step 5: Use the CAPM formula to calculate the expected return for Tesla\n",
    "# risk_free_rate = 0.015 - we are using the same risk free rate\n",
    "\n",
    "# CAPM formula: Expected Return = Risk-Free Rate + Beta * (Market Return - Risk-Free Rate)\n",
    "\n",
    "\n",
    "# Output the expected return for Tesla\n",
    "\n",
    "\n"
   ]
  },
  {
   "cell_type": "markdown",
   "id": "6ab70040-2822-4766-875e-4123f6fa15ac",
   "metadata": {},
   "source": [
    "### Optional Extension: Visualize Expected Return\n",
    "\n",
    "To make your analysis even more engaging, consider creating a visual representation of the expected return for Tesla. Visualizations can help you better understand how Tesla's expected return compares to the risk-free rate and the overall market return.\n",
    "\n",
    "#### Steps to Create a Visualization:\n",
    "\n",
    "1. **Set Up Your Data**: Create a simple DataFrame to hold the risk-free rate, market return, and Tesla's expected return.\n",
    "2. **Use Matplotlib to Create a Bar Chart**: This will visually compare the three values.\n",
    "3. **Label Your Axes**: Ensure your chart is easy to read by adding appropriate labels and a title.\n",
    "\n",
    "#### Example of What to Visualize:\n",
    "\n",
    "- **Risk-Free Rate**: A constant value (e.g., 1.5%).\n",
    "- **Market Return**: The average annual return of the S&P 500.\n",
    "- **Expected Return for Tesla**: The calculated expected return using CAPM.\n",
    "\n",
    "This visualization can provide insights into whether investing in Tesla might be worthwhile compared to safer investments.\n",
    "\n",
    "\n",
    "Feel free to delete the explanation provided above and add your own information to personalize your analysis. You can include your thoughts on the results, additional context about Tesla, or any other relevant insights that would enhance your presentation. This will help you present your findings as a polished piece of work, suitable for a website or portfolio.\n",
    "\n",
    "### Let's Get Creative!\n"
   ]
  },
  {
   "cell_type": "code",
   "execution_count": null,
   "id": "c3b0ce9a-3cab-4887-a344-57632e001294",
   "metadata": {},
   "outputs": [],
   "source": []
  }
 ],
 "metadata": {
  "kernelspec": {
   "display_name": "Python 3 (ipykernel)",
   "language": "python",
   "name": "python3"
  },
  "language_info": {
   "codemirror_mode": {
    "name": "ipython",
    "version": 3
   },
   "file_extension": ".py",
   "mimetype": "text/x-python",
   "name": "python",
   "nbconvert_exporter": "python",
   "pygments_lexer": "ipython3",
   "version": "3.11.5"
  }
 },
 "nbformat": 4,
 "nbformat_minor": 5
}
