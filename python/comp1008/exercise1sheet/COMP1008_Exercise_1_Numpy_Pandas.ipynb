{
 "cells": [
  {
   "cell_type": "markdown",
   "id": "0851c858",
   "metadata": {},
   "source": [
    "<h1><center>COMP1008: Exercise 1<br/>Introduction to NumPy and Pandas</center></h1>"
   ]
  },
  {
   "cell_type": "markdown",
   "id": "bf3d8c5c",
   "metadata": {},
   "source": [
    "`NumPy` and `Pandas` are two extremely useful Python libraries. They provide powerful and flexible mathematical and data analysis methods for machine learning and data science. This tutorial provides some examples on basic data manipulation in <a href=\"#partone\">Part 1: NumPy</a> and <a href=\"#parttwo\">Part 2: Pandas</a>. Some hand-on tasks are designed for you to practice your data manipulation skills."
   ]
  },
  {
   "cell_type": "markdown",
   "id": "0304eb75",
   "metadata": {},
   "source": [
    "<div id=\"partone\"><h2><center>Part 1: NumPy Basics</center></h2></div>\n",
    "\n",
    "The [NumPy](https://numpy.org/doc/stable/user/absolute_beginners.html) library provides a powerful array object `ndarray` to handle well-organized data in numerical tasks. NumPy should be already installed with Anaconda. We simply import it and call it `np`."
   ]
  },
  {
   "cell_type": "code",
   "execution_count": 2,
   "id": "643dfb47",
   "metadata": {},
   "outputs": [],
   "source": [
    "import numpy as np\n",
    "# import SymPy as sp"
   ]
  },
  {
   "cell_type": "markdown",
   "id": "42e964a5",
   "metadata": {},
   "source": [
    "### 1.1. Introduction to NumPy arrays\n",
    "\n",
    "`ndarray` is a homogeneous n-dimensional array object, with <b>methods</b> and <b>attributes</b> to efficiently operate on data. It can hold a collection of items of any one data type, either in a vector (1D one-dimensional) or a matrix (multi-dimensional).\n",
    "\n",
    "#### Creating NumPy arrays"
   ]
  },
  {
   "cell_type": "markdown",
   "id": "ddc93681",
   "metadata": {},
   "source": [
    "Method `np.array()` can easily create NumPy arrays."
   ]
  },
  {
   "cell_type": "code",
   "execution_count": null,
   "id": "b3616bd4",
   "metadata": {},
   "outputs": [],
   "source": [
    "# try your COMP1043 tutorial task using numpy\n",
    "arr0 = np.array([1, 0, -2]) # 1D array\n",
    "arr0"
   ]
  },
  {
   "cell_type": "code",
   "execution_count": null,
   "id": "f005484a",
   "metadata": {},
   "outputs": [],
   "source": [
    "arr1 = np.array([2, 1, 1]) # 1D array"
   ]
  },
  {
   "cell_type": "code",
   "execution_count": null,
   "id": "0db19587",
   "metadata": {},
   "outputs": [],
   "source": [
    "arr = arr0 + 2 * arr1\n",
    "arr"
   ]
  },
  {
   "cell_type": "code",
   "execution_count": null,
   "id": "5db0ace9",
   "metadata": {},
   "outputs": [],
   "source": [
    "arr2 = np.array([[1, 2, 3, 4], [5, 6, 7, 8], [9, 10, 11, 12]])\n",
    "arr2 # a 3X4 2D matrix"
   ]
  },
  {
   "cell_type": "markdown",
   "id": "37c8d6dd",
   "metadata": {},
   "source": [
    "Attributes such as `shape`, `size`, `dtype` can provide useful information of the arrays."
   ]
  },
  {
   "cell_type": "code",
   "execution_count": null,
   "id": "2661bf65",
   "metadata": {},
   "outputs": [],
   "source": [
    "# the dimensions of the array.\n",
    "arr2.shape"
   ]
  },
  {
   "cell_type": "markdown",
   "id": "20e28409",
   "metadata": {},
   "source": [
    "Other methods to easily construct NumPy arrays."
   ]
  },
  {
   "cell_type": "code",
   "execution_count": null,
   "id": "8c8c39ea",
   "metadata": {},
   "outputs": [],
   "source": [
    "# Create a linear sequence starting at 0 ending at 20, with a step of 2\n",
    "np.arange(0, 20, 2)"
   ]
  },
  {
   "cell_type": "code",
   "execution_count": null,
   "id": "a247a948",
   "metadata": {},
   "outputs": [],
   "source": [
    "# Create an array of five values evenly spaced between 0 and 1\n",
    "np.linspace(0, 1, 5)"
   ]
  },
  {
   "cell_type": "code",
   "execution_count": null,
   "id": "c2ef50f7",
   "metadata": {},
   "outputs": [],
   "source": [
    "# Create a 3x3 array of uniformly distributed random values in [0.0, 1.0)\n",
    "np.random.random((3, 3))"
   ]
  },
  {
   "cell_type": "markdown",
   "id": "c80dc39f",
   "metadata": {},
   "source": [
    "<div class=\"alert alert-info\">\n",
    "    <h4>Task 1.1</h4>\n",
    "</div>\n",
    "\n",
    "Create a 1D array of numbers from 0 to 9 and name it `arr1`. Display the resulting array."
   ]
  },
  {
   "cell_type": "code",
   "execution_count": 3,
   "id": "9bc3906d",
   "metadata": {},
   "outputs": [
    {
     "name": "stdout",
     "output_type": "stream",
     "text": [
      "[0 1 2 3 4 5 6 7 8 9]\n"
     ]
    }
   ],
   "source": [
    "# Your code goes here\n",
    "\n",
    "arr1 = np.arange(0,10)\n",
    "print(arr1)\n",
    "\n"
   ]
  },
  {
   "cell_type": "markdown",
   "id": "d4f4912d",
   "metadata": {},
   "source": [
    "### 1.2. Indexing and Data Slicing in NumPy\n",
    "NumPy arrays offer fast element access for efficient data manipulation.\n",
    "\n",
    "#### Data Indexing\n",
    "The (<i>i,j</i>)-th value (from index zero) can be accessed by specifying its index in `[,]`."
   ]
  },
  {
   "cell_type": "code",
   "execution_count": null,
   "id": "57d0e03c",
   "metadata": {},
   "outputs": [],
   "source": [
    "# Create a 5x3 array of random integers in the interval [0, 10)\n",
    "arr3 = np.random.randint(0, 10, (4, 3))\n",
    "arr3"
   ]
  },
  {
   "cell_type": "code",
   "execution_count": null,
   "id": "773d8ea0",
   "metadata": {},
   "outputs": [],
   "source": [
    "arr3[0,0]"
   ]
  },
  {
   "cell_type": "code",
   "execution_count": null,
   "id": "3b8484d9",
   "metadata": {},
   "outputs": [],
   "source": [
    "# Indexing from the end of the array\n",
    "arr3[3,-1]"
   ]
  },
  {
   "cell_type": "code",
   "execution_count": null,
   "id": "c14803db",
   "metadata": {},
   "outputs": [],
   "source": [
    "# Modify the value of the arrary\n",
    "arr3[0,0] = 0\n",
    "arr3"
   ]
  },
  {
   "cell_type": "markdown",
   "id": "d7fb15ec",
   "metadata": {},
   "source": [
    "#### Data slicing\n",
    "\n",
    "`arr[start:stop:step]` selects a sub-array in NumPy. Short syntax `arr[:stop]` and `arr[start:]` use the default starting and ending index."
   ]
  },
  {
   "cell_type": "code",
   "execution_count": null,
   "id": "0b5b6066",
   "metadata": {
    "scrolled": true
   },
   "outputs": [],
   "source": [
    "# starting from index 0 till the 5th location\n",
    "arr1[:5]"
   ]
  },
  {
   "cell_type": "code",
   "execution_count": null,
   "id": "a6bb99f7",
   "metadata": {},
   "outputs": [],
   "source": [
    "# from index 1 till the end\n",
    "arr1[1:]"
   ]
  },
  {
   "cell_type": "code",
   "execution_count": null,
   "id": "472a3f3e",
   "metadata": {},
   "outputs": [],
   "source": [
    "# similar syntax for 2D array: every row, the first two columns\n",
    "arr2[:,:2]"
   ]
  },
  {
   "cell_type": "code",
   "execution_count": null,
   "id": "699a40c8",
   "metadata": {},
   "outputs": [],
   "source": [
    "# use condiction to select values in the array that are in (2,8)\n",
    "arr1[(arr1>2)&(arr1<8)]"
   ]
  },
  {
   "cell_type": "code",
   "execution_count": null,
   "id": "4f8a6092",
   "metadata": {},
   "outputs": [],
   "source": [
    "# Replace those values > 3 by 2\n",
    "arr1[arr1>3] = 2\n",
    "arr1"
   ]
  },
  {
   "cell_type": "markdown",
   "id": "b43bee6a",
   "metadata": {},
   "source": [
    "<div class=\"alert alert-info\">\n",
    "    <h4>Task 1.2</h4>\n",
    "</div>\n",
    "\n",
    "Extract all odd numbers from `arr1`. <b>Hint</b>: think about the condition to use for data slicing."
   ]
  },
  {
   "cell_type": "code",
   "execution_count": 4,
   "id": "0f4da3e6",
   "metadata": {},
   "outputs": [
    {
     "data": {
      "text/plain": [
       "array([1, 3, 5, 7, 9])"
      ]
     },
     "execution_count": 4,
     "metadata": {},
     "output_type": "execute_result"
    }
   ],
   "source": [
    "# Your code goes here\n",
    "\n",
    "arr1[arr1%2==1]"
   ]
  },
  {
   "cell_type": "markdown",
   "id": "84dd22b5",
   "metadata": {},
   "source": [
    "### 1.3. Computation in NumPy\n",
    "\n",
    "#### Mathematical operations\n",
    "\n",
    "NumPy provides a wide variety of straightforward mathematical operations on arrays."
   ]
  },
  {
   "cell_type": "code",
   "execution_count": null,
   "id": "bd2e1976",
   "metadata": {
    "scrolled": false
   },
   "outputs": [],
   "source": [
    "arr4 = np.linspace(0, 1, 8)\n",
    "print('arr1:\\n',arr1)\n",
    "print('arr4:\\n',arr4)"
   ]
  },
  {
   "cell_type": "code",
   "execution_count": null,
   "id": "f4b02c52",
   "metadata": {},
   "outputs": [],
   "source": [
    "# Add items elementwise by using operator +.\n",
    "arr1+arr4"
   ]
  },
  {
   "cell_type": "code",
   "execution_count": null,
   "id": "8f141871",
   "metadata": {},
   "outputs": [],
   "source": [
    "# Array elements raised to powers elementwise.\n",
    "np.power(arr1,3)"
   ]
  },
  {
   "cell_type": "markdown",
   "id": "0a72667f",
   "metadata": {},
   "source": [
    "<div class=\"alert alert-info\">\n",
    "    <h4>Task 1.3</h4>\n",
    "</div> \n",
    "\n",
    "Given the array `N`, calculate and print: $2*N$, $N^2$, $N^8$, and $2^N$.<br>\n",
    "<b>Hint</b>: find the suitable [mathematical operations](https://numpy.org/doc/stable/reference/routines.math.html#mathematical-functions) in NumPy."
   ]
  },
  {
   "cell_type": "code",
   "execution_count": 5,
   "id": "de27d8af",
   "metadata": {},
   "outputs": [
    {
     "name": "stdout",
     "output_type": "stream",
     "text": [
      "[ 0  2  4  6  8 10 12 14 16 18] [ 0  1  4  9 16 25 36 49 64 81] [       0        1      256     6561    65536   390625  1679616  5764801\n",
      " 16777216 43046721] [  1   2   4   8  16  32  64 128 256 512]\n"
     ]
    }
   ],
   "source": [
    "N = np.arange(10)\n",
    "# Your code goes here\n",
    "print(2*N,N**2,N**8,2**N)\n"
   ]
  },
  {
   "cell_type": "markdown",
   "id": "5412ee3a",
   "metadata": {},
   "source": [
    "#### Statistical operations\n",
    "\n",
    "NumPy offer powderful [statistical functions](https://numpy.org/doc/stable/reference/routines.statistics.html) for essential analysis on the array."
   ]
  },
  {
   "cell_type": "code",
   "execution_count": null,
   "id": "4fd97186",
   "metadata": {},
   "outputs": [],
   "source": [
    "# Sum all of the elements of the array\n",
    "np.sum(arr1)"
   ]
  },
  {
   "cell_type": "code",
   "execution_count": null,
   "id": "c750eded",
   "metadata": {},
   "outputs": [],
   "source": [
    "# Compute the standard deviation of the array\n",
    "np.std(arr1)"
   ]
  },
  {
   "cell_type": "code",
   "execution_count": null,
   "id": "c2aa9065",
   "metadata": {},
   "outputs": [],
   "source": [
    "# Return the maximal element in an array\n",
    "np.max(arr1)"
   ]
  },
  {
   "cell_type": "markdown",
   "id": "590348b2",
   "metadata": {},
   "source": [
    "<div id=\"parttwo\"><h2><center>Part 2: Basics of Pandas</center></h2></div>\n",
    "\n",
    "NumPy handles mostly Numerical values. <a href=\"https://pandas.pydata.org/docs/user_guide/index.html\"><b>Pandas</b></a> offers more flexibile data analytics and manipulation on numeric, alphabetic, and heterogeneous data types for data processing in machine learning and data science."
   ]
  },
  {
   "cell_type": "code",
   "execution_count": 8,
   "id": "ab32defd",
   "metadata": {},
   "outputs": [],
   "source": [
    "# We need to import pandas as pd\n",
    "import pandas as pd"
   ]
  },
  {
   "cell_type": "markdown",
   "id": "6e4a8e93",
   "metadata": {},
   "source": [
    "### 2.1. Pandas DataFrame Object\n",
    "\n",
    "A Pandas <b><a href=\"https://pandas.pydata.org/pandas-docs/stable/reference/api/pandas.DataFrame.html\">DataFrame</a></b> can be thought of as a 2D container for easy data manipulation, similar to a spreadsheet or table. A DataFrame `df` is created as follows by method `pd.DataFrame()`."
   ]
  },
  {
   "cell_type": "code",
   "execution_count": null,
   "id": "c721fa69",
   "metadata": {},
   "outputs": [],
   "source": [
    "df = pd.DataFrame({'Name': ['Alice', 'Bob'], \n",
    "                   'Module': ['Chemistry', 'Math'], \n",
    "                   'Mark': [73, 68]})"
   ]
  },
  {
   "cell_type": "code",
   "execution_count": null,
   "id": "047064bd",
   "metadata": {
    "scrolled": true
   },
   "outputs": [],
   "source": [
    "df"
   ]
  },
  {
   "cell_type": "markdown",
   "id": "e8b3869d",
   "metadata": {},
   "source": [
    "<b>Dataframe</b> has attributes such as `values`, `index` and `columns` to access to the data, index and column labels."
   ]
  },
  {
   "cell_type": "code",
   "execution_count": null,
   "id": "fdbe3f85",
   "metadata": {},
   "outputs": [],
   "source": [
    "df.columns"
   ]
  },
  {
   "cell_type": "markdown",
   "id": "cd9946d8",
   "metadata": {},
   "source": [
    "### 2.2. Reading & viewing data in Pandas\n",
    "\n",
    "#### Reading data\n",
    "\n",
    "Pandas methods such as `read_csv()` or `read_excel()` import data files as a DataFrame."
   ]
  },
  {
   "cell_type": "code",
   "execution_count": 9,
   "id": "6378393c",
   "metadata": {},
   "outputs": [
    {
     "data": {
      "text/html": [
       "<div>\n",
       "<style scoped>\n",
       "    .dataframe tbody tr th:only-of-type {\n",
       "        vertical-align: middle;\n",
       "    }\n",
       "\n",
       "    .dataframe tbody tr th {\n",
       "        vertical-align: top;\n",
       "    }\n",
       "\n",
       "    .dataframe thead th {\n",
       "        text-align: right;\n",
       "    }\n",
       "</style>\n",
       "<table border=\"1\" class=\"dataframe\">\n",
       "  <thead>\n",
       "    <tr style=\"text-align: right;\">\n",
       "      <th></th>\n",
       "      <th>Year</th>\n",
       "      <th>Country</th>\n",
       "      <th>Continent</th>\n",
       "      <th>Emission</th>\n",
       "    </tr>\n",
       "  </thead>\n",
       "  <tbody>\n",
       "    <tr>\n",
       "      <th>0</th>\n",
       "      <td>2008</td>\n",
       "      <td>Aruba</td>\n",
       "      <td>South America</td>\n",
       "      <td>24.750133</td>\n",
       "    </tr>\n",
       "    <tr>\n",
       "      <th>1</th>\n",
       "      <td>2009</td>\n",
       "      <td>Aruba</td>\n",
       "      <td>South America</td>\n",
       "      <td>24.876706</td>\n",
       "    </tr>\n",
       "    <tr>\n",
       "      <th>2</th>\n",
       "      <td>2010</td>\n",
       "      <td>Aruba</td>\n",
       "      <td>South America</td>\n",
       "      <td>24.182702</td>\n",
       "    </tr>\n",
       "    <tr>\n",
       "      <th>3</th>\n",
       "      <td>2011</td>\n",
       "      <td>Aruba</td>\n",
       "      <td>South America</td>\n",
       "      <td>23.922412</td>\n",
       "    </tr>\n",
       "    <tr>\n",
       "      <th>4</th>\n",
       "      <td>2008</td>\n",
       "      <td>Andorra</td>\n",
       "      <td>Europe</td>\n",
       "      <td>6.296125</td>\n",
       "    </tr>\n",
       "    <tr>\n",
       "      <th>...</th>\n",
       "      <td>...</td>\n",
       "      <td>...</td>\n",
       "      <td>...</td>\n",
       "      <td>...</td>\n",
       "    </tr>\n",
       "    <tr>\n",
       "      <th>783</th>\n",
       "      <td>2011</td>\n",
       "      <td>Zambia</td>\n",
       "      <td>Africa</td>\n",
       "      <td>0.212450</td>\n",
       "    </tr>\n",
       "    <tr>\n",
       "      <th>784</th>\n",
       "      <td>2008</td>\n",
       "      <td>Zimbabwe</td>\n",
       "      <td>Africa</td>\n",
       "      <td>0.569255</td>\n",
       "    </tr>\n",
       "    <tr>\n",
       "      <th>785</th>\n",
       "      <td>2009</td>\n",
       "      <td>Zimbabwe</td>\n",
       "      <td>Africa</td>\n",
       "      <td>0.600521</td>\n",
       "    </tr>\n",
       "    <tr>\n",
       "      <th>786</th>\n",
       "      <td>2010</td>\n",
       "      <td>Zimbabwe</td>\n",
       "      <td>Africa</td>\n",
       "      <td>0.646073</td>\n",
       "    </tr>\n",
       "    <tr>\n",
       "      <th>787</th>\n",
       "      <td>2011</td>\n",
       "      <td>Zimbabwe</td>\n",
       "      <td>Africa</td>\n",
       "      <td>0.691698</td>\n",
       "    </tr>\n",
       "  </tbody>\n",
       "</table>\n",
       "<p>788 rows × 4 columns</p>\n",
       "</div>"
      ],
      "text/plain": [
       "     Year   Country      Continent   Emission\n",
       "0    2008     Aruba  South America  24.750133\n",
       "1    2009     Aruba  South America  24.876706\n",
       "2    2010     Aruba  South America  24.182702\n",
       "3    2011     Aruba  South America  23.922412\n",
       "4    2008   Andorra         Europe   6.296125\n",
       "..    ...       ...            ...        ...\n",
       "783  2011    Zambia         Africa   0.212450\n",
       "784  2008  Zimbabwe         Africa   0.569255\n",
       "785  2009  Zimbabwe         Africa   0.600521\n",
       "786  2010  Zimbabwe         Africa   0.646073\n",
       "787  2011  Zimbabwe         Africa   0.691698\n",
       "\n",
       "[788 rows x 4 columns]"
      ]
     },
     "execution_count": 9,
     "metadata": {},
     "output_type": "execute_result"
    }
   ],
   "source": [
    "dfemissions = pd.read_csv(\"https://raw.githubusercontent.com/plotly/datasets/master/Emissions%20Data.csv\")\n",
    "dfemissions"
   ]
  },
  {
   "cell_type": "markdown",
   "id": "4cfe5bcb",
   "metadata": {},
   "source": [
    "### Viewing data"
   ]
  },
  {
   "cell_type": "code",
   "execution_count": null,
   "id": "a8d91526",
   "metadata": {},
   "outputs": [],
   "source": [
    "# View the actual data inside the data structure DataFrame using attribute .values\n",
    "dfemissions.values"
   ]
  },
  {
   "cell_type": "code",
   "execution_count": null,
   "id": "438286f3",
   "metadata": {},
   "outputs": [],
   "source": [
    "# View by default the first five samples using method .head()\n",
    "dfemissions.head()"
   ]
  },
  {
   "cell_type": "code",
   "execution_count": null,
   "id": "6b997490",
   "metadata": {},
   "outputs": [],
   "source": [
    "# View the last three samples using method .tail()\n",
    "dfemissions.tail(3)"
   ]
  },
  {
   "cell_type": "code",
   "execution_count": null,
   "id": "9eef00d6",
   "metadata": {},
   "outputs": [],
   "source": [
    "# View the data type of the each column using attribute .dtypes\n",
    "dfemissions.dtypes"
   ]
  },
  {
   "cell_type": "code",
   "execution_count": null,
   "id": "61d7d1fd",
   "metadata": {},
   "outputs": [],
   "source": [
    "# Change the data type of the `Year` column to `float64` using method .astype()\n",
    "dfemissions.Year.astype('float64')"
   ]
  },
  {
   "cell_type": "code",
   "execution_count": null,
   "id": "29a5865c",
   "metadata": {},
   "outputs": [],
   "source": [
    "# Check how many dimensions of the data using attribute .shape\n",
    "dfemissions.shape"
   ]
  },
  {
   "cell_type": "markdown",
   "id": "c8ccc4a1",
   "metadata": {},
   "source": [
    "### Descriptive statistics\n",
    "Pandas provides various [methods](https://pandas.pydata.org/docs/user_guide/basics.html#descriptive-statistics) to easily find statistical information of the data."
   ]
  },
  {
   "cell_type": "code",
   "execution_count": null,
   "id": "79044bcb",
   "metadata": {},
   "outputs": [],
   "source": [
    "# Calculate the mean of the data in the `Emission` column using method .mean()\n",
    "dfemissions['Emission'].mean()"
   ]
  },
  {
   "cell_type": "code",
   "execution_count": null,
   "id": "54363073",
   "metadata": {},
   "outputs": [],
   "source": [
    "# Calculate the standard deviation of the data in the `Emission` column\n",
    "dfemissions['Emission'].std()"
   ]
  },
  {
   "cell_type": "code",
   "execution_count": null,
   "id": "6992aef9",
   "metadata": {},
   "outputs": [],
   "source": [
    "# Calculate the sum of the data in the `Emission` column\n",
    "dfemissions['Emission'].sum()"
   ]
  },
  {
   "cell_type": "code",
   "execution_count": null,
   "id": "9333a5db",
   "metadata": {},
   "outputs": [],
   "source": [
    "# Generates a high-level summary of the attributes of the DataFrame (numerical columns only)\n",
    "dfemissions.describe()"
   ]
  },
  {
   "cell_type": "markdown",
   "id": "efa92ecc",
   "metadata": {},
   "source": [
    "## 2.3. Indexing and selection in Pandas\n",
    "\n",
    "### Data indexing\n",
    "\n",
    "We can access data in DataFrame by either `dataframe[colname]` or an attribute ```dataframe.colname```."
   ]
  },
  {
   "cell_type": "code",
   "execution_count": null,
   "id": "8bbdfdcc",
   "metadata": {},
   "outputs": [],
   "source": [
    "# access a slice by `dataFrame[colname]`\n",
    "dfemissions['Continent']"
   ]
  },
  {
   "cell_type": "code",
   "execution_count": null,
   "id": "449e220c",
   "metadata": {},
   "outputs": [],
   "source": [
    "# access a slice by an attribute `dataFrame.colname`\n",
    "dfemissions.Continent"
   ]
  },
  {
   "cell_type": "markdown",
   "id": "7f694087",
   "metadata": {},
   "source": [
    "We can select data by either their index or referring to their labels."
   ]
  },
  {
   "cell_type": "code",
   "execution_count": null,
   "id": "6456d815",
   "metadata": {},
   "outputs": [],
   "source": [
    "dfemissions[['Country','Emission']] # select two columns"
   ]
  },
  {
   "cell_type": "code",
   "execution_count": null,
   "id": "88d2f62a",
   "metadata": {
    "scrolled": true
   },
   "outputs": [],
   "source": [
    "dfemissions[5:10] # Select the 5th-10th rows"
   ]
  },
  {
   "cell_type": "markdown",
   "id": "55659903",
   "metadata": {},
   "source": [
    "<div class=\"alert alert-info\">\n",
    "    <h4>Task 2</h4>\n",
    "</div>\n",
    "\n",
    "Show the first ten samples in `dfemissions` where `Emission` is higher than the mean emission value.<br>\n",
    "<b>Hint</b>: break the task into subtasks. For example, calculate the mean value first, then do the conditional data slicing. "
   ]
  },
  {
   "cell_type": "code",
   "execution_count": null,
   "id": "26c8e49d",
   "metadata": {},
   "outputs": [
    {
     "name": "stdout",
     "output_type": "stream",
     "text": [
      "    Year               Country      Continent   Emission\n",
      "0   2008                 Aruba  South America  24.750133\n",
      "1   2009                 Aruba  South America  24.876706\n",
      "2   2010                 Aruba  South America  24.182702\n",
      "3   2011                 Aruba  South America  23.922412\n",
      "4   2008               Andorra         Europe   6.296125\n",
      "5   2009               Andorra         Europe   6.049173\n",
      "6   2010               Andorra         Europe   6.124770\n",
      "7   2011               Andorra         Europe   5.968685\n",
      "20  2008  United Arab Emirates           Asia  23.033600\n",
      "21  2009  United Arab Emirates           Asia  21.102296\n"
     ]
    }
   ],
   "source": [
    "# Your code goes here.\n",
    "print(dfemissions[(dfemissions['Emission']>(dfemissions['Emission'].mean()))].head(10))\n",
    "\n",
    "#readable version below\n",
    "\n",
    "#mean = dfemissions['Emission'].mean()\n",
    "#strippedDF = dfemissions[(dfemissions['Emission']>mean)]\n",
    "#print(strippedDF.head(10))"
   ]
  },
  {
   "cell_type": "code",
   "execution_count": null,
   "id": "316e84b2",
   "metadata": {},
   "outputs": [],
   "source": []
  },
  {
   "cell_type": "code",
   "execution_count": null,
   "id": "fd772bf7",
   "metadata": {},
   "outputs": [],
   "source": []
  },
  {
   "cell_type": "markdown",
   "id": "f6dbb48b",
   "metadata": {},
   "source": [
    "<div class=\"alert alert-warning\">\n",
    "    <h4>Optional</h4>\n",
    "</div>\n",
    "\n",
    "To extend your knowledge and skills in NumPy and Pandas, here are some additional resources:\n",
    "- NumPy\n",
    "    - [Standard data types in NumPy](https://numpy.org/doc/stable/user/basics.types.html)\n",
    "    - [NumPy quickstart](https://numpy.org/doc/stable/user/quickstart.html#numpy-quickstart)\n",
    "    - [Introduction to NumPy](https://jakevdp.github.io/PythonDataScienceHandbook/02.00-introduction-to-numpy.html) in [Python Data Science Handbook](https://jakevdp.github.io/PythonDataScienceHandbook/)\n",
    "- Pandas\n",
    "    - [Learn Pandas Tutorial](https://www.kaggle.com/learn/pandas) in Kaggle (<i>highly recommend</i>)\n",
    "    - YouTube: <a href=\"https://www.youtube.com/watch?v=dcqPhpY7tWk\">What's Pandas?</a>\n",
    "    - <a href=\"https://www.youtube.com/watch?v=iGFdh6_FePU\">Pandas in 10 minutes</a>\n",
    "    - [Data Manipulation with Pandas](https://jakevdp.github.io/PythonDataScienceHandbook/03.00-introduction-to-pandas.html) in [Python Data Science Handbook](https://jakevdp.github.io/PythonDataScienceHandbook/)\n",
    "    \n",
    "<div class=\"alert alert-success\">\n",
    "    <h2>🍰 End</h2> \n",
    "</div>"
   ]
  }
 ],
 "metadata": {
  "kernelspec": {
   "display_name": "Python 3",
   "language": "python",
   "name": "python3"
  },
  "language_info": {
   "codemirror_mode": {
    "name": "ipython",
    "version": 3
   },
   "file_extension": ".py",
   "mimetype": "text/x-python",
   "name": "python",
   "nbconvert_exporter": "python",
   "pygments_lexer": "ipython3",
   "version": "3.13.0"
  },
  "toc": {
   "base_numbering": 1,
   "nav_menu": {},
   "number_sections": true,
   "sideBar": true,
   "skip_h1_title": false,
   "title_cell": "Table of Contents",
   "title_sidebar": "Contents",
   "toc_cell": false,
   "toc_position": {
    "height": "calc(100% - 180px)",
    "left": "10px",
    "top": "150px",
    "width": "303.865px"
   },
   "toc_section_display": true,
   "toc_window_display": true
  }
 },
 "nbformat": 4,
 "nbformat_minor": 5
}
