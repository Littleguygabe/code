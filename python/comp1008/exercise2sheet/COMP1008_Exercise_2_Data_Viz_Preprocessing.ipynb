{
 "cells": [
  {
   "cell_type": "markdown",
   "id": "84ddf947",
   "metadata": {},
   "source": [
    "<h1><center>COMP1008: Exercise 2<br/>Data Visualisation and Processing</center></h1>\n",
    "\n",
    "Data processing is a key step in machine learning. By analysing and visualising the data, an appropriate machine learning model can be chosen for our tasks, creating a model with higher accuracy. Errors and outliers in the data can also become evident processing the data.\n",
    "\n",
    "This tutorial provides some examples and hands-on tasks on\n",
    "- <a href=\"#partone\">Part 1 Pandas</a> for data manipulation\n",
    "- <a href=\"#parttwo\">Part 2 matplotlib</a> for data visualisation\n",
    "- <a href=\"#partthree\">Part 3 Data Processing</a> for machine learning"
   ]
  },
  {
   "cell_type": "markdown",
   "id": "c2bb513b",
   "metadata": {},
   "source": [
    "<div class=\"alert alert-success\">\n",
    "    <h3>Mini-Challenge 1: Graphing Combinatorial Explosion</h3>\n",
    "</div>\n",
    "\n",
    "After completing the guided tutorial on data visualisation and pre-processing, you are challenged to visualise the data in `data-combinatorial.xlsx` to show combinatorial explosion using your choice of suitable graph/chart and data processing techniques."
   ]
  },
  {
   "cell_type": "markdown",
   "id": "eabca0df",
   "metadata": {},
   "source": [
    "## Part 1. Visualisation using `pandas` 🐼 <span id=\"partone\"></span>\n",
    "In addition to data manipulation, the `pandas` package also provides a lot of plotting functionality."
   ]
  },
  {
   "cell_type": "code",
   "execution_count": null,
   "id": "71965be3",
   "metadata": {
    "scrolled": true
   },
   "outputs": [],
   "source": [
    "# import the pandas package\n",
    "import pandas as pd\n",
    "\n",
    "# read a csv file from a url\n",
    "df = pd.read_csv('https://raw.githubusercontent.com/plotly/datasets/master/Emissions%20Data.csv')\n",
    "\n",
    "df.head()"
   ]
  },
  {
   "cell_type": "markdown",
   "id": "8bb92845",
   "metadata": {},
   "source": [
    "### Plot"
   ]
  },
  {
   "cell_type": "code",
   "execution_count": null,
   "id": "885e7e0b",
   "metadata": {},
   "outputs": [],
   "source": [
    "# 'plot' method: plots numerical data samples along their index, i.e. 'Emission' and 'Year' in two series\n",
    "df.plot()"
   ]
  },
  {
   "cell_type": "markdown",
   "id": "c3b8fc23",
   "metadata": {},
   "source": [
    "This plot is not particularly useful. We need to understand the data with an appropriate visualisation, e.g. see any trend of $CO_2$ emissions over the years."
   ]
  },
  {
   "cell_type": "markdown",
   "id": "55b1da7c",
   "metadata": {},
   "source": [
    "### Scatter Plot"
   ]
  },
  {
   "cell_type": "code",
   "execution_count": null,
   "id": "78135e8b",
   "metadata": {},
   "outputs": [],
   "source": [
    "# 'scatter' method: plots numerical data samples of x-axis vs. y-axis.\n",
    "df.plot.scatter(x=\"Year\", y=\"Emission\")"
   ]
  },
  {
   "cell_type": "markdown",
   "id": "9d844bf4",
   "metadata": {},
   "source": [
    "This visualisation using scatter plot is also not informative. We can group data `df['Emission']` by `Year` and then do statistics."
   ]
  },
  {
   "cell_type": "code",
   "execution_count": null,
   "id": "79c60386",
   "metadata": {},
   "outputs": [],
   "source": [
    "# Plot the average emissions of each year group. This plot is more informative.\n",
    "df_avg = df.groupby(\"Year\")[\"Emission\"].mean()\n",
    "df_avg.plot()\n",
    "\n"
   ]
  },
  {
   "cell_type": "markdown",
   "id": "4efbd782",
   "metadata": {},
   "source": [
    "<div class=\"alert alert-info\">\n",
    "    <h3>Task 1</h3>\n",
    "</div>\n",
    "\n",
    "Plot the total emissions grouped by continent. Which continent contributed the most to emissions?"
   ]
  },
  {
   "cell_type": "code",
   "execution_count": null,
   "id": "73d100a5",
   "metadata": {},
   "outputs": [],
   "source": [
    "## your code here\n",
    "# df_total = ...\n"
   ]
  },
  {
   "cell_type": "markdown",
   "id": "b4a68bc7",
   "metadata": {},
   "source": [
    "### Bar"
   ]
  },
  {
   "cell_type": "markdown",
   "id": "de156cbc",
   "metadata": {},
   "source": [
    "A line plot is usually used to visualise continuous data. `Continent` is categorical, so a bar chart is more appropriate."
   ]
  },
  {
   "cell_type": "code",
   "execution_count": null,
   "id": "afe0463b",
   "metadata": {},
   "outputs": [],
   "source": [
    "df_total"
   ]
  },
  {
   "cell_type": "code",
   "execution_count": null,
   "id": "34c7440e",
   "metadata": {},
   "outputs": [],
   "source": [
    "# specify the 'kind' of the plot\n",
    "df_total.plot(kind='bar')"
   ]
  },
  {
   "cell_type": "markdown",
   "id": "9863d479",
   "metadata": {},
   "source": [
    "### Histogram\n",
    "\n",
    "<a href=\"https://en.wikipedia.org/wiki/Histogram\">Histograms</a> shows data distribution. Each bar shows the frequency of a value appears in a \"bin\" (i.e. range of values on the x-axis). See <a href=\"https://pandas.pydata.org/docs/reference/api/pandas.DataFrame.hist.html\">pandas histogram</a> for more information."
   ]
  },
  {
   "cell_type": "code",
   "execution_count": null,
   "id": "2a9ef562",
   "metadata": {
    "scrolled": true
   },
   "outputs": [],
   "source": [
    "df['Emission'].hist()"
   ]
  },
  {
   "cell_type": "code",
   "execution_count": null,
   "id": "797b99e1",
   "metadata": {
    "scrolled": true
   },
   "outputs": [],
   "source": [
    "# create a DataFrame df_Europe by using a condition in the index\n",
    "df2008 = df[df['Year']==2008]\n",
    "df2008['Emission'].hist()"
   ]
  },
  {
   "cell_type": "markdown",
   "id": "f2c95e71",
   "metadata": {},
   "source": [
    "### Visualise more information with combined plots\n",
    "\n",
    "To combine plots on the same set of axes in scatter plots, we create and save the first plot by the returned axis reference `ax`. Then reuse the axis for the other plots by including `ax=ax` in the arguments of `scatter(...)`. "
   ]
  },
  {
   "cell_type": "code",
   "execution_count": null,
   "id": "1202a225",
   "metadata": {},
   "outputs": [],
   "source": [
    "# comparing the emissions in 2008 and 2011 in the same scatter plot, s defines size of each point\n",
    "ax = df2008.plot.scatter(x='Emission', y='Continent', color='red', s=df2008['Emission']**3/100, label='2008')\n",
    "df2011 = df[df['Year']==2011]\n",
    "df2011.plot.scatter(x='Emission', y='Continent', color='blue', s=df2011['Emission']**3/100, label='2011', ax=ax)"
   ]
  },
  {
   "cell_type": "markdown",
   "id": "122477fb",
   "metadata": {},
   "source": [
    "## Part 2. Visualisation using `matplotlib` <span id=\"parttwo\"></span>\n",
    "\n",
    "The pandas package builds upon matplotlib to make visualisation easier. We can usually use pandas plots, and when not available, access the more advanced additional features in the `matplotlib` library directly."
   ]
  },
  {
   "cell_type": "code",
   "execution_count": null,
   "id": "e852baf4",
   "metadata": {},
   "outputs": [],
   "source": [
    "import matplotlib.pyplot as plt\n",
    "import numpy as np"
   ]
  },
  {
   "cell_type": "markdown",
   "id": "20b329ea",
   "metadata": {},
   "source": [
    "Let's now use the functions of `matplotlib` to create the same scatter plot as before but fix the issues with labels and axis spacing."
   ]
  },
  {
   "cell_type": "code",
   "execution_count": null,
   "id": "27b23ac9",
   "metadata": {},
   "outputs": [],
   "source": [
    "# create the scatter plot using matplotlib 'plt' directly, not by df.scatter.plot() in Pandas\n",
    "plt.scatter(df2008['Emission'], df2008['Continent'], s=df2008['Emission']**3/100)\n",
    "plt.scatter(df2011['Emission'], df2011['Continent'], s=df2011['Emission']**3/100)\n",
    "plt.title('$CO_2$ Emissions data of Continent in 2008 and 2011')\n",
    "\n",
    "# functionality available through matplotlib plt, not Pandas\n",
    "# plt.xlim([0,80])\n",
    "plt.xlabel('Emissions (ktns)')\n",
    "plt.ylabel('Continent')\n",
    "plt.legend(['2008','2011'])\n",
    "# explicitly setting the size of the plot\n",
    "plt.gcf().set_size_inches(8, 6)"
   ]
  },
  {
   "cell_type": "markdown",
   "id": "5ab94d34",
   "metadata": {},
   "source": [
    "We can also create seperate sub-plots using `matplotlib`, normally with the same y-axis range; otherwise the visualisation can be misleading!"
   ]
  },
  {
   "cell_type": "code",
   "execution_count": null,
   "id": "ac3c0fb7",
   "metadata": {},
   "outputs": [],
   "source": [
    "# tell matplotlib how many subplots to draw\n",
    "plt.subplot(1,2,1)\n",
    "# start of first subplot\n",
    "plt.scatter(df2008['Emission'], df2008['Continent'], s=df2008['Emission']**3/100)\n",
    "# explicitly set the range of the y-axis, same for all subplots\n",
    "# only add the y-axis label on the left-most subplot\n",
    "plt.ylabel('$CO_2$ Emissions (ktns)')\n",
    "plt.xlabel('2008')\n",
    "\n",
    "# start of second subplot\n",
    "plt.subplot(1,2,2)\n",
    "plt.scatter(df2011['Emission'], df2011['Continent'], color='red', s=df2011['Emission']**3/100)\n",
    "plt.xlabel('2011')\n",
    "\n",
    "# explicitly setting the size of the plot\n",
    "fig = plt.gcf()\n",
    "fig.set_size_inches(16, 4)\n",
    "fig.suptitle('Emissions in 2008 and 2011')\n",
    "fig.supxlabel('Year')"
   ]
  },
  {
   "cell_type": "markdown",
   "id": "12a62920",
   "metadata": {},
   "source": [
    "## Part 3. Data Pre-processing <span id=\"partthree\"></span>\n",
    "\n",
    "Missing or erroneous data in real-world cause issues for some machine learning algorithms. We can either 1. delete (drop) the affected samples, or 2. populate missing data."
   ]
  },
  {
   "cell_type": "code",
   "execution_count": null,
   "id": "016cd95e",
   "metadata": {},
   "outputs": [],
   "source": [
    "import numpy as np # We need to handle some numerical data below\n",
    "\n",
    "df_pp = pd.read_excel('data-combinatorial-tutorial.xlsx', index_col=0)\n",
    "df_pp"
   ]
  },
  {
   "cell_type": "markdown",
   "id": "4d38f425",
   "metadata": {},
   "source": [
    "Notice the missing data in the $N^2$ column, indicated as `NaN`. The `isnull()` method tells us which data points are missing, flagging them as `True`."
   ]
  },
  {
   "cell_type": "code",
   "execution_count": null,
   "id": "4b65e124",
   "metadata": {},
   "outputs": [],
   "source": [
    "df_pp.isnull()"
   ]
  },
  {
   "cell_type": "markdown",
   "id": "14a11cd0",
   "metadata": {},
   "source": [
    "### Dropping Missing Data"
   ]
  },
  {
   "cell_type": "code",
   "execution_count": null,
   "id": "201f2c07",
   "metadata": {},
   "outputs": [],
   "source": [
    "# Option 1: drop the rows/columns with any number of missing data\n",
    "dropped_na_data = df_pp.dropna()\n",
    "dropped_na_data"
   ]
  },
  {
   "cell_type": "code",
   "execution_count": null,
   "id": "37767dc7",
   "metadata": {},
   "outputs": [],
   "source": [
    "# Option 2: remove the associated column(s)\n",
    "c_dropped_na_data = df_pp.dropna(axis='columns')\n",
    "c_dropped_na_data"
   ]
  },
  {
   "cell_type": "markdown",
   "id": "05ff7a15",
   "metadata": {},
   "source": [
    "This option allows us to retain all data samples, but we lose the entire $N^2$ column. \n",
    "For more information on `dropna` see this <a href=\"https://pandas.pydata.org/docs/reference/api/pandas.DataFrame.dropna.html\">documentation</a>."
   ]
  },
  {
   "cell_type": "markdown",
   "id": "23c9e018",
   "metadata": {},
   "source": [
    "### Replacing Missing Data\n",
    "Data are expensive. We'd rather replace the missing data with some appropriate \"fake data\", with carefully chosen values. Observe the following methods. Do these methods make sense in this context?"
   ]
  },
  {
   "cell_type": "markdown",
   "id": "89cb4eb3",
   "metadata": {},
   "source": [
    "#### Zero Values"
   ]
  },
  {
   "cell_type": "code",
   "execution_count": null,
   "id": "aba76ae3",
   "metadata": {},
   "outputs": [],
   "source": [
    "# replace missing data simply with zero\n",
    "zeroes_df = df_pp.replace(to_replace = np.nan, value = 0)\n",
    "zeroes_df"
   ]
  },
  {
   "cell_type": "code",
   "execution_count": null,
   "id": "11fad252",
   "metadata": {},
   "outputs": [],
   "source": [
    "zeroes_df.plot()"
   ]
  },
  {
   "cell_type": "markdown",
   "id": "4bd920a0",
   "metadata": {},
   "source": [
    "#### Average Values"
   ]
  },
  {
   "cell_type": "code",
   "execution_count": null,
   "id": "90b6a820",
   "metadata": {},
   "outputs": [],
   "source": [
    "# populate missing data with average values for each data series\n",
    "df_pp = pd.read_excel('data-combinatorial-tutorial.xlsx', index_col=0) # column 0 read as the index\n",
    "df_pp.isnull()"
   ]
  },
  {
   "cell_type": "markdown",
   "id": "ea6ec3ea",
   "metadata": {},
   "source": [
    "We can use the `fillna()` method to replace all the missing data in the $N^2$ column with the median data point."
   ]
  },
  {
   "cell_type": "code",
   "execution_count": null,
   "id": "8365c638",
   "metadata": {},
   "outputs": [],
   "source": [
    "# calculate the median average of the $N^2$ column\n",
    "med = df_pp['N^2'].median()\n",
    "\n",
    "# fill all 'na' data points with `med`, and assign this back\n",
    "df_pp['N^2'] = df_pp['N^2'].fillna(med)\n",
    "# observe the last three rows now contain values equal to the median of the first 12 samples.\n",
    "df_pp['N^2']"
   ]
  },
  {
   "cell_type": "code",
   "execution_count": null,
   "id": "4946b554",
   "metadata": {},
   "outputs": [],
   "source": [
    "df_pp.plot()"
   ]
  },
  {
   "cell_type": "markdown",
   "id": "d0b164e5",
   "metadata": {},
   "source": [
    "#### Forward Filling Values"
   ]
  },
  {
   "cell_type": "code",
   "execution_count": null,
   "id": "88b80de3",
   "metadata": {},
   "outputs": [],
   "source": [
    "# forward filling fills the missing data with the last known value\n",
    "df_pp = pd.read_excel('data-combinatorial-tutorial.xlsx', index_col=0)\n",
    "df_pp"
   ]
  },
  {
   "cell_type": "code",
   "execution_count": null,
   "id": "8e7de34d",
   "metadata": {},
   "outputs": [],
   "source": [
    "df_pp = df_pp.fillna(method='ffill') # forward fill\n",
    "df_pp"
   ]
  },
  {
   "cell_type": "code",
   "execution_count": null,
   "id": "b1595f52",
   "metadata": {},
   "outputs": [],
   "source": [
    "df_pp.plot()"
   ]
  },
  {
   "cell_type": "markdown",
   "id": "28605abb",
   "metadata": {},
   "source": [
    "Note that there are multiple methods for replacing missing values using `fillna()` as seen <a href=\"https://pandas.pydata.org/docs/reference/api/pandas.DataFrame.fillna.html\">here</a>."
   ]
  },
  {
   "cell_type": "markdown",
   "id": "75696b63",
   "metadata": {},
   "source": [
    "#### Randomised Values <span id=\"replace-ran\"></span>\n",
    "Try running this example several times. \n",
    "Note that the missing data has been replaced with a randomly selected value from the existing data."
   ]
  },
  {
   "cell_type": "code",
   "execution_count": null,
   "id": "047fa0e7",
   "metadata": {},
   "outputs": [],
   "source": [
    "import random\n",
    "df_pp = pd.read_excel('data-combinatorial-tutorial.xlsx', index_col=0)\n",
    "df_pp['N^2'] = df_pp['N^2'].fillna(random.choice(df_pp['N^2'].values.tolist()))\n",
    "df_pp"
   ]
  },
  {
   "cell_type": "code",
   "execution_count": null,
   "id": "a0fafeaa",
   "metadata": {},
   "outputs": [],
   "source": [
    "df_pp.plot()"
   ]
  },
  {
   "cell_type": "markdown",
   "id": "ee4a5903",
   "metadata": {},
   "source": [
    "Note: Data is valuable. An improper method filling in the missing data can change the properties of the data, e.g. the mean and median of the distribution. The effects of using different methods to real-world data may not be so obvious!"
   ]
  },
  {
   "cell_type": "markdown",
   "id": "06ec4fb3",
   "metadata": {},
   "source": [
    "## Mini-Challenge 1: Graphing Combinatorial Explosion <span id=\"part3\"></span>"
   ]
  },
  {
   "cell_type": "markdown",
   "id": "a14c29f8",
   "metadata": {},
   "source": [
    "<div class=\"alert alert-success\">\n",
    "    <h3>Mini-Challenge (Submit to Moodle!)</h3>\n",
    "</div>\n",
    "\n",
    "A challenge dataset `data-combinatorial-challenge.xlsx` is provided. With the knowledge you have gained from this exercise, create a plot which you deem to be appropriate for visualising the data in the dataset.\n",
    "\n",
    "You should import the data using pandas and pre-process the data to remove or correct (as appropriate) any missing data. By default the y-axis on a plot has a linear scaling. This might not be appropriate for this case; explore setting a logaritmic scale!\n",
    "\n",
    "Once you are happy with your plot, submit an image of the plot in Moodle (save the plot by right-clicking on the plot and save it). After uploading the image and pressing submit, you should see the following screen; add your comment and press \"Save comment\". Your \"comment\" should be on the \"pros and cons\" when processing the missing data and the chosen plot as follows: \n",
    "\n",
    "```\n",
    "Plot type: [ Pie chart ]\n",
    "Missing data completion method: [ Zero fill ]\n",
    "Pros: [ Retain all data series ]\n",
    "Cons: [ Data is unrealistic for large values of 'N' ]\n",
    "```\n",
    "\n",
    "![na](img/submission.png)\n",
    "\n",
    "***The class will receive anonymised feedback in a lecture based on everyone's responses.***"
   ]
  },
  {
   "cell_type": "code",
   "execution_count": null,
   "id": "56a5da97",
   "metadata": {},
   "outputs": [],
   "source": [
    "ddf = pd.read_excel('data-combinatorial-challenge.xlsx')\n",
    "ddf.head()"
   ]
  },
  {
   "cell_type": "code",
   "execution_count": null,
   "id": "08fdfe0b",
   "metadata": {
    "scrolled": true
   },
   "outputs": [],
   "source": [
    "# Enter your data pre-processing and plotting code here!\n"
   ]
  },
  {
   "cell_type": "markdown",
   "id": "492228fa",
   "metadata": {},
   "source": [
    "<div class=\"alert alert-success\">\n",
    "    <h2>🍰 End</h2> \n",
    "</div>"
   ]
  },
  {
   "cell_type": "code",
   "execution_count": null,
   "id": "035d62ff-7053-4383-8d27-bb64796c8f8c",
   "metadata": {},
   "outputs": [],
   "source": []
  },
  {
   "cell_type": "code",
   "execution_count": null,
   "id": "0e3f9f68-2676-457b-b4c1-6f05eb2f7356",
   "metadata": {},
   "outputs": [],
   "source": []
  },
  {
   "cell_type": "code",
   "execution_count": null,
   "id": "1c3faf7b-8100-4b0b-af7f-0e867b51d4f7",
   "metadata": {},
   "outputs": [],
   "source": []
  },
  {
   "cell_type": "code",
   "execution_count": null,
   "id": "d83cf208-3946-445d-8c28-9bc1ce380484",
   "metadata": {},
   "outputs": [],
   "source": []
  }
 ],
 "metadata": {
  "kernelspec": {
   "display_name": "Python [conda env:anaconda3]",
   "language": "python",
   "name": "conda-env-anaconda3-py"
  },
  "language_info": {
   "codemirror_mode": {
    "name": "ipython",
    "version": 3
   },
   "file_extension": ".py",
   "mimetype": "text/x-python",
   "name": "python",
   "nbconvert_exporter": "python",
   "pygments_lexer": "ipython3",
   "version": "3.11.5"
  }
 },
 "nbformat": 4,
 "nbformat_minor": 5
}
